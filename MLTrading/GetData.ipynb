{
 "cells": [
  {
   "cell_type": "markdown",
   "metadata": {},
   "source": [
    "## Yahoo Finance"
   ]
  },
  {
   "cell_type": "code",
   "execution_count": 1,
   "metadata": {},
   "outputs": [
    {
     "name": "stderr",
     "output_type": "stream",
     "text": [
      "/Users/anoguera/anaconda3/envs/MLTrading/lib/python3.9/site-packages/yfinance/base.py:48: FutureWarning: The default dtype for empty Series will be 'object' instead of 'float64' in a future version. Specify a dtype explicitly to silence this warning.\n",
      "  _empty_series = pd.Series()\n"
     ]
    }
   ],
   "source": [
    "import yfinance as yf"
   ]
  },
  {
   "cell_type": "code",
   "execution_count": 3,
   "metadata": {},
   "outputs": [
    {
     "name": "stderr",
     "output_type": "stream",
     "text": [
      "[*********************100%%**********************]  1 of 1 completed\n"
     ]
    },
    {
     "data": {
      "text/html": [
       "<div>\n",
       "<style scoped>\n",
       "    .dataframe tbody tr th:only-of-type {\n",
       "        vertical-align: middle;\n",
       "    }\n",
       "\n",
       "    .dataframe tbody tr th {\n",
       "        vertical-align: top;\n",
       "    }\n",
       "\n",
       "    .dataframe thead th {\n",
       "        text-align: right;\n",
       "    }\n",
       "</style>\n",
       "<table border=\"1\" class=\"dataframe\">\n",
       "  <thead>\n",
       "    <tr style=\"text-align: right;\">\n",
       "      <th></th>\n",
       "      <th>Open</th>\n",
       "      <th>High</th>\n",
       "      <th>Low</th>\n",
       "      <th>Close</th>\n",
       "      <th>Adj Close</th>\n",
       "      <th>Volume</th>\n",
       "    </tr>\n",
       "    <tr>\n",
       "      <th>Date</th>\n",
       "      <th></th>\n",
       "      <th></th>\n",
       "      <th></th>\n",
       "      <th></th>\n",
       "      <th></th>\n",
       "      <th></th>\n",
       "    </tr>\n",
       "  </thead>\n",
       "  <tbody>\n",
       "    <tr>\n",
       "      <th>2017-01-03</th>\n",
       "      <td>28.950001</td>\n",
       "      <td>29.082500</td>\n",
       "      <td>28.690001</td>\n",
       "      <td>29.037500</td>\n",
       "      <td>26.891962</td>\n",
       "      <td>115127600</td>\n",
       "    </tr>\n",
       "    <tr>\n",
       "      <th>2017-01-04</th>\n",
       "      <td>28.962500</td>\n",
       "      <td>29.127501</td>\n",
       "      <td>28.937500</td>\n",
       "      <td>29.004999</td>\n",
       "      <td>26.861862</td>\n",
       "      <td>84472400</td>\n",
       "    </tr>\n",
       "    <tr>\n",
       "      <th>2017-01-05</th>\n",
       "      <td>28.980000</td>\n",
       "      <td>29.215000</td>\n",
       "      <td>28.952499</td>\n",
       "      <td>29.152500</td>\n",
       "      <td>26.998461</td>\n",
       "      <td>88774400</td>\n",
       "    </tr>\n",
       "    <tr>\n",
       "      <th>2017-01-06</th>\n",
       "      <td>29.195000</td>\n",
       "      <td>29.540001</td>\n",
       "      <td>29.117500</td>\n",
       "      <td>29.477501</td>\n",
       "      <td>27.299450</td>\n",
       "      <td>127007600</td>\n",
       "    </tr>\n",
       "    <tr>\n",
       "      <th>2017-01-09</th>\n",
       "      <td>29.487499</td>\n",
       "      <td>29.857500</td>\n",
       "      <td>29.485001</td>\n",
       "      <td>29.747499</td>\n",
       "      <td>27.549492</td>\n",
       "      <td>134247600</td>\n",
       "    </tr>\n",
       "  </tbody>\n",
       "</table>\n",
       "</div>"
      ],
      "text/plain": [
       "                 Open       High        Low      Close  Adj Close     Volume\n",
       "Date                                                                        \n",
       "2017-01-03  28.950001  29.082500  28.690001  29.037500  26.891962  115127600\n",
       "2017-01-04  28.962500  29.127501  28.937500  29.004999  26.861862   84472400\n",
       "2017-01-05  28.980000  29.215000  28.952499  29.152500  26.998461   88774400\n",
       "2017-01-06  29.195000  29.540001  29.117500  29.477501  27.299450  127007600\n",
       "2017-01-09  29.487499  29.857500  29.485001  29.747499  27.549492  134247600"
      ]
     },
     "execution_count": 3,
     "metadata": {},
     "output_type": "execute_result"
    }
   ],
   "source": [
    "data = yf.download(\"AAPL\", start=\"2017-01-01\", end=\"2024-12-31\")\n",
    "data.head()"
   ]
  },
  {
   "cell_type": "markdown",
   "metadata": {},
   "source": [
    "## Pandas Reader --> No funciona"
   ]
  },
  {
   "cell_type": "code",
   "execution_count": 4,
   "metadata": {},
   "outputs": [],
   "source": [
    "from pandas_datareader.data import DataReader"
   ]
  },
  {
   "cell_type": "code",
   "execution_count": 7,
   "metadata": {},
   "outputs": [],
   "source": [
    "# data = DataReader(\"AAPL\", data_source='yahoo', start=\"2017-01-01\", end=\"2024-12-31\")\n",
    "# data.head()"
   ]
  },
  {
   "cell_type": "markdown",
   "metadata": {},
   "source": [
    "## Poloniex API"
   ]
  },
  {
   "cell_type": "code",
   "execution_count": 3,
   "metadata": {},
   "outputs": [],
   "source": [
    "import requests\n",
    "import json\n",
    "import pandas as pd"
   ]
  },
  {
   "cell_type": "code",
   "execution_count": 4,
   "metadata": {},
   "outputs": [],
   "source": [
    "# Poloniex Prices\n",
    "prices = requests.get(\"https://api.poloniex.com/markets/price\")\n",
    "prices_list = []\n",
    "if prices.status_code == 200:\n",
    "  prices_json = json.loads(prices.text)\n",
    "  for p in prices_json:\n",
    "    prices_list.append({\"ticker\": p[\"symbol\"], \"price\": p[\"price\"]})"
   ]
  },
  {
   "cell_type": "code",
   "execution_count": 5,
   "metadata": {},
   "outputs": [
    {
     "name": "stdout",
     "output_type": "stream",
     "text": [
      "[{'ticker': 'BTS_BTC', 'price': '0.0000000266'}, {'ticker': 'DASH_BTC', 'price': '0.000454'}, {'ticker': 'DOGE_BTC', 'price': '0.00000387'}, {'ticker': 'LTC_BTC', 'price': '0.00117'}, {'ticker': 'XLM_BTC', 'price': '0.000004155'}, {'ticker': 'XEM_BTC', 'price': '0.000000314'}, {'ticker': 'XMR_BTC', 'price': '0.002044'}, {'ticker': 'XRP_BTC', 'price': '0.00002373'}, {'ticker': 'BTC_USDT', 'price': '101548.9'}, {'ticker': 'DASH_USDT', 'price': '46.2'}, {'ticker': 'LTC_USDT', 'price': '119.252'}, {'ticker': 'XLM_USDT', 'price': '0.4197'}, {'ticker': 'XMR_USDT', 'price': '207.48'}, {'ticker': 'XRP_USDT', 'price': '2.4007'}, {'ticker': 'ETH_BTC', 'price': '0.03842'}, {'ticker': 'ETH_USDT', 'price': '3887.2'}, {'ticker': 'SC_BTC', 'price': '0.0000000654'}, {'ticker': 'DCR_BTC', 'price': '0.00021'}, {'ticker': 'LSK_BTC', 'price': '0.00001096'}, {'ticker': 'STEEM_BTC', 'price': '0.00000254'}, {'ticker': 'ETC_BTC', 'price': '0.000325'}, {'ticker': 'ETC_ETH', 'price': '0.00815'}, {'ticker': 'ETC_USDT', 'price': '32.614'}, {'ticker': 'ARDR_BTC', 'price': '0.000001188'}, {'ticker': 'ZEC_BTC', 'price': '0.000561'}, {'ticker': 'ZEC_ETH', 'price': '0.01371'}, {'ticker': 'ZEC_USDT', 'price': '58.16'}, {'ticker': 'ZRX_BTC', 'price': '0.0000062'}, {'ticker': 'ZRX_ETH', 'price': '0.0001557'}, {'ticker': 'CVC_BTC', 'price': '0.000001537'}, {'ticker': 'GAS_BTC', 'price': '0.0000584'}, {'ticker': 'STORJ_BTC', 'price': '0.00000497'}, {'ticker': 'EOS_BTC', 'price': '0.00001052'}, {'ticker': 'EOS_ETH', 'price': '0.0002694'}, {'ticker': 'EOS_USDT', 'price': '1.0457'}, {'ticker': 'SNT_BTC', 'price': '0.000000533'}, {'ticker': 'BAT_BTC', 'price': '0.00000294'}, {'ticker': 'BAT_USDT', 'price': '0.2823'}, {'ticker': 'LOOM_BTC', 'price': '0.000000675'}, {'ticker': 'DOGE_USDT', 'price': '0.395206'}, {'ticker': 'LSK_USDT', 'price': '1.1181'}, {'ticker': 'SC_USDT', 'price': '0.006664'}, {'ticker': 'ZRX_USDT', 'price': '0.6204'}, {'ticker': 'QTUM_BTC', 'price': '0.0000431'}, {'ticker': 'QTUM_USDT', 'price': '3.944'}, {'ticker': 'BTC_USDC', 'price': '101707.57'}, {'ticker': 'ETH_USDC', 'price': '3802.55'}, {'ticker': 'USDT_USDC', 'price': '1.00001'}, {'ticker': 'MANA_BTC', 'price': '0.00000599'}, {'ticker': 'MANA_USDT', 'price': '0.6077'}, {'ticker': 'BCHSV_BTC', 'price': '0.00068'}, {'ticker': 'XRP_USDC', 'price': '2.41'}, {'ticker': 'LTC_USDC', 'price': '119.61'}, {'ticker': 'POLY_BTC', 'price': '0.000001001'}, {'ticker': 'ATOM_BTC', 'price': '0.0000866'}, {'ticker': 'ATOM_USDT', 'price': '8.885'}, {'ticker': 'BCHSV_USDT', 'price': '64.97'}, {'ticker': 'TRX_BTC', 'price': '0.000002811'}, {'ticker': 'TRX_USDC', 'price': '0.28419'}, {'ticker': 'TRX_USDT', 'price': '0.28307'}, {'ticker': 'ETH_TRX', 'price': '13777'}, {'ticker': 'XRP_TRX', 'price': '8.327'}, {'ticker': 'BTT_USDT', 'price': '0.0000013065'}, {'ticker': 'BTT_TRX', 'price': '0.00000432'}, {'ticker': 'WIN_USDT', 'price': '0.00013274'}, {'ticker': 'WIN_TRX', 'price': '0.000411'}, {'ticker': 'STEEM_TRX', 'price': '0.86'}, {'ticker': 'LINK_BTC', 'price': '0.0002949'}, {'ticker': 'LINK_TRX', 'price': '98.4'}, {'ticker': 'XTZ_USDT', 'price': '1.4208'}, {'ticker': 'USDJ_USDT', 'price': '1.1185'}, {'ticker': 'SNX_BTC', 'price': '0.0000242'}, {'ticker': 'SNX_USDT', 'price': '3.127'}, {'ticker': 'SNX_TRX', 'price': '29.33'}, {'ticker': 'POL_BTC', 'price': '0.000006'}, {'ticker': 'POL_USDT', 'price': '0.60258'}, {'ticker': 'POL_TRX', 'price': '2.12'}, {'ticker': 'MKR_BTC', 'price': '0.01921'}, {'ticker': 'MKR_USDT', 'price': '1997.1'}, {'ticker': 'DAI_USDT', 'price': '0.99901'}, {'ticker': 'NEO_BTC', 'price': '0.0001754'}, {'ticker': 'NEO_USDT', 'price': '17.82'}, {'ticker': 'SWFTC_BTC', 'price': '0.0000000058'}, {'ticker': 'SWFTC_USDT', 'price': '0.000636'}, {'ticker': 'JST_USDT', 'price': '0.043827'}, {'ticker': 'JST_TRX', 'price': '0.1326'}, {'ticker': 'STEEM_USDT', 'price': '0.24993'}, {'ticker': 'LINK_USDT', 'price': '30.1659'}, {'ticker': 'AVA_BTC', 'price': '0.0000224'}, {'ticker': 'AVA_USDT', 'price': '2.2571'}, {'ticker': 'AVA_TRX', 'price': '7.98'}, {'ticker': 'XRPBULL_USDT', 'price': '0.00000323'}, {'ticker': 'CHR_BTC', 'price': '0.000003283'}, {'ticker': 'CHR_USDT', 'price': '0.3222'}, {'ticker': 'BTC_BNB', 'price': '140.76'}, {'ticker': 'BNB_USDT', 'price': '713.93'}, {'ticker': 'BNB_TRX', 'price': '2547.34'}, {'ticker': 'MDT_BTC', 'price': '0.000000999'}, {'ticker': 'MDT_USDT', 'price': '0.07284'}, {'ticker': 'MDT_TRX', 'price': '0.2488'}, {'ticker': 'COMP_USDT', 'price': '108.03'}, {'ticker': 'COMP_ETH', 'price': '0.02807'}, {'ticker': 'REN_USDT', 'price': '0.0436'}, {'ticker': 'LRC_BTC', 'price': '0.00000279'}, {'ticker': 'LRC_USDT', 'price': '0.2813'}, {'ticker': 'BAL_USDT', 'price': '3.378'}, {'ticker': 'SXP_BTC', 'price': '0.00000381'}, {'ticker': 'SXP_USDT', 'price': '0.33'}, {'ticker': 'YFI_USDT', 'price': '10708.5'}, {'ticker': 'STPT_USDT', 'price': '0.04815'}, {'ticker': 'UMA_USDT', 'price': '3.717'}, {'ticker': 'RING_USDT', 'price': '0.0017'}, {'ticker': 'SWAP_USDT', 'price': '0.046'}, {'ticker': 'GEEQ_USDT', 'price': '0.0344'}, {'ticker': 'BAND_USDT', 'price': '1.91'}, {'ticker': 'DOS_USDT', 'price': '0.001011'}, {'ticker': 'DIA_USDT', 'price': '0.8483'}, {'ticker': 'TRB_USDT', 'price': '73.56'}, {'ticker': 'CRV_USDT', 'price': '1.1297'}, {'ticker': 'OM_USDT', 'price': '3.66809'}, {'ticker': 'OCEAN_USDT', 'price': '0.6099'}, {'ticker': 'PRQ_USDT', 'price': '0.043'}, {'ticker': 'DOT_USDT', 'price': '8.614'}, {'ticker': 'RSR_USDT', 'price': '0.013719'}, {'ticker': 'WNXM_USDT', 'price': '69.01'}, {'ticker': 'FCT2_USDT', 'price': '0.05499'}, {'ticker': 'SUSHI_USDT', 'price': '2.1508'}, {'ticker': 'YFII_USDT', 'price': '365'}, {'ticker': 'FUND_USDT', 'price': '0.06025'}, {'ticker': 'FUND_TRX', 'price': '0.1124'}, {'ticker': 'FUND_BTC', 'price': '0.0000006'}, {'ticker': 'AKRO_USDT', 'price': '0.004455'}, {'ticker': 'UNI_USDT', 'price': '16.8289'}, {'ticker': 'CVP_USDT', 'price': '0.0796'}, {'ticker': 'GHST_USDT', 'price': '1.4075'}, {'ticker': 'RARI_USDT', 'price': '1.119'}, {'ticker': 'AMP_BTC', 'price': '0.000000094'}, {'ticker': 'AMP_USDT', 'price': '0.010476'}, {'ticker': 'SAND_BTC', 'price': '0.00000757'}, {'ticker': 'SAND_USDT', 'price': '0.7346'}, {'ticker': 'POLS_USDT', 'price': '0.6483'}, {'ticker': 'AAVE_BTC', 'price': '0.003576'}, {'ticker': 'AAVE_USDT', 'price': '367.39'}, {'ticker': 'CVT_BTC', 'price': '0.00000004874'}, {'ticker': 'CVT_USDT', 'price': '0.00125'}, {'ticker': 'INJ_BTC', 'price': '0.00027843'}, {'ticker': 'INJ_USDT', 'price': '27.7372'}, {'ticker': 'BCH_BTC', 'price': '0.005178'}, {'ticker': 'BCH_USDT', 'price': '532.35'}, {'ticker': 'KP3R_USDT', 'price': '62.86'}, {'ticker': 'GLM_BTC', 'price': '0.00000086'}, {'ticker': 'GLM_USDT', 'price': '0.0775'}, {'ticker': 'ZLOT_USDT', 'price': '4'}, {'ticker': 'FRONT_BTC', 'price': '0.00000546'}, {'ticker': 'FRONT_USDT', 'price': '0.4714'}, {'ticker': 'API3_USDT', 'price': '2.1603'}, {'ticker': 'BADGER_USDT', 'price': '3.894'}, {'ticker': 'FARM_USDT', 'price': '57.66'}, {'ticker': 'DOT_BTC', 'price': '0.0000882'}, {'ticker': 'GRT_USDT', 'price': '0.2716'}, {'ticker': 'ESD_USDT', 'price': '0.000702'}, {'ticker': 'ONEINCH_USDT', 'price': '0.4939'}, {'ticker': 'REEF_USDT', 'price': '0.001422'}, {'ticker': 'LON_USDT', 'price': '0.2608'}, {'ticker': 'TRU_USDT', 'price': '0.1168'}, {'ticker': 'BOND_USDT', 'price': '1.3'}, {'ticker': 'TUSD_USDT', 'price': '1.00541'}, {'ticker': 'WETH_USDT', 'price': '1250.03'}, {'ticker': 'TRU_BTC', 'price': '0.000001364'}, {'ticker': 'FTT_USDT', 'price': '2.835'}, {'ticker': 'LPT_USDT', 'price': '15.46'}, {'ticker': 'ALPHA_USDT', 'price': '0.1136'}, {'ticker': 'RENDER_USDT', 'price': '9.169'}, {'ticker': 'KCS_USDT', 'price': '7.49'}, {'ticker': 'FIL_BTC', 'price': '0.0000636'}, {'ticker': 'FIL_USDT', 'price': '6.459'}, {'ticker': 'XYM_BTC', 'price': '0.000000209'}, {'ticker': 'XYM_USDT', 'price': '0.02251'}, {'ticker': 'LIVE_USDT', 'price': '0.01281'}, {'ticker': 'SHIB_USDT', 'price': '0.000027481'}, {'ticker': 'AKITA_USDT', 'price': '0.0000000797'}, {'ticker': 'KLV_USDT', 'price': '0.00419'}, {'ticker': 'LQTY_USDT', 'price': '2.265'}, {'ticker': 'DEGO_USDT', 'price': '1.408'}, {'ticker': 'QUICK_USDT', 'price': '0.0557'}, {'ticker': 'MVL_USDT', 'price': '0.002901'}, {'ticker': 'NFT_USDT', 'price': '0.00000058077'}, {'ticker': 'NFT_TRX', 'price': '0.000002001'}, {'ticker': 'HT_USDT', 'price': '0.66'}, {'ticker': 'CTSI_USDT', 'price': '0.2034'}, {'ticker': 'RLC_USDT', 'price': '2.6121'}, {'ticker': 'ERSDL_USDT', 'price': '0.001601'}, {'ticker': 'RUNE_USDT', 'price': '6.8942'}, {'ticker': 'KISHU_TRX', 'price': '0.00000000078'}, {'ticker': 'GTC_USDT', 'price': '1.136'}, {'ticker': 'OKB_USDT', 'price': '52'}, {'ticker': 'SUN_USDT', 'price': '0.0247496'}, {'ticker': 'XEC_USDT', 'price': '0.00004338'}, {'ticker': 'CAKE_USDT', 'price': '3.647'}, {'ticker': 'XVS_USDT', 'price': '9.998'}, {'ticker': 'BURGER_USDT', 'price': '0.6986'}, {'ticker': 'AXS_USDT', 'price': '8.02'}, {'ticker': 'ALPACA_USDT', 'price': '0.23'}, {'ticker': 'C98_USDT', 'price': '0.2127'}, {'ticker': 'PERP_USDT', 'price': '1.0856'}, {'ticker': 'ACH1_USDT', 'price': '0.03751'}, {'ticker': 'CLV_USDT', 'price': '0.0777'}, {'ticker': 'YGG_USDT', 'price': '0.7419'}, {'ticker': 'ALICE_USDT', 'price': '1.748'}, {'ticker': 'AUDIO_USDT', 'price': '0.2043'}, {'ticker': 'BNB_USDC', 'price': '713.2'}, {'ticker': 'MBOX_USDT', 'price': '0.2619'}, {'ticker': 'AGLD_USDT', 'price': '1.267'}, {'ticker': 'BTT_USDC', 'price': '0.0000013027'}, {'ticker': 'XEM_USDT', 'price': '0.03124'}, {'ticker': 'DYDX_USDT', 'price': '2.075'}, {'ticker': 'XCAD_USDT', 'price': '0.3899'}, {'ticker': 'GALA_USDT', 'price': '0.04724'}, {'ticker': 'LDO_USDT', 'price': '2.221'}, {'ticker': 'BTRST_USDT', 'price': '0.264'}, {'ticker': 'FLOKI_USDT', 'price': '0.00024296'}, {'ticker': 'TOKE_USDT', 'price': '0.893'}, {'ticker': 'WNCG_USDT', 'price': '0.0488'}, {'ticker': 'MLN_USDT', 'price': '24.31'}, {'ticker': 'WOO_USDT', 'price': '0.2741'}, {'ticker': 'ENJ_USDT', 'price': '0.3081'}, {'ticker': 'CHZ_USDT', 'price': '0.11119'}, {'ticker': 'SLP_USDT', 'price': '0.005173'}, {'ticker': 'OGN_USDT', 'price': '0.1283'}, {'ticker': 'PLA_USDT', 'price': '0.0776'}, {'ticker': 'TLM_USDT', 'price': '0.01759'}, {'ticker': 'SUPER_USDT', 'price': '2.0877'}, {'ticker': 'ILV_USDT', 'price': '50.98'}, {'ticker': 'ERN_USDT', 'price': '3.3702'}, {'ticker': 'SPELL_USDT', 'price': '0.001011'}, {'ticker': 'EFI_USDT', 'price': '0.0467'}, {'ticker': 'RACA_USDT', 'price': '0.0002994'}, {'ticker': 'AVAX_USDT', 'price': '50.937'}, {'ticker': 'GMEE_USDT', 'price': '0.01981'}, {'ticker': 'CVX_USDT', 'price': '6.021'}, {'ticker': 'AVAX_BTC', 'price': '0.000507'}, {'ticker': 'ENS_USDT', 'price': '41'}, {'ticker': 'IMX_USDT', 'price': '1.8159'}, {'ticker': 'GN_USDT', 'price': '0.00000044'}, {'ticker': 'SAITAMA_USDT', 'price': '0.0001002'}, {'ticker': 'BOBA_USDT', 'price': '0.1945'}, {'ticker': 'POLYDOGE_USDT', 'price': '0.000000016'}, {'ticker': 'FXS_USDT', 'price': '3.6'}, {'ticker': 'DYP_USDT', 'price': '0.2501'}, {'ticker': 'SOL_USDT', 'price': '221.076'}, {'ticker': 'SOL_BTC', 'price': '0.002177'}, {'ticker': 'DORA_USDT', 'price': '0.597'}, {'ticker': 'ORCA_USDT', 'price': '5.013'}, {'ticker': 'PEOPLE_USDT', 'price': '0.05869'}, {'ticker': 'NEXO_USDT', 'price': '1.514'}, {'ticker': 'FTM_USDT', 'price': '1.3353'}, {'ticker': 'BNX_USDT', 'price': '0.5177'}, {'ticker': 'QI_USDT', 'price': '0.02295'}, {'ticker': 'ADA_USDT', 'price': '1.07186'}, {'ticker': 'REQ_USDT', 'price': '0.1327'}, {'ticker': 'SAMO_USDT', 'price': '0.01199'}, {'ticker': 'ATLAS_USDT', 'price': '0.003788'}, {'ticker': 'POLIS_USDT', 'price': '0.1967'}, {'ticker': 'FIDA_USDT', 'price': '0.335'}, {'ticker': 'BICO_USDT', 'price': '0.3777'}, {'ticker': 'GODS_USDT', 'price': '0.0397'}, {'ticker': 'RBN_USDT', 'price': '0.5865'}, {'ticker': 'PYR_USDT', 'price': '4.179'}, {'ticker': 'HIGH_USDT', 'price': '2.1064'}, {'ticker': 'VOXEL_USDT', 'price': '0.2654'}, {'ticker': 'ADA_BTC', 'price': '0.00001055'}, {'ticker': 'CTC_USDT', 'price': '1.4872'}, {'ticker': 'METIS_USDT', 'price': '100.83'}, {'ticker': 'OOKI_USDT', 'price': '0.00018'}, {'ticker': 'LOOKS_USDT', 'price': '0.05'}, {'ticker': 'FTM_BTC', 'price': '0.00001214'}, {'ticker': 'SHPING_USDT', 'price': '0.00745'}, {'ticker': 'LOKA_USDT', 'price': '0.3071'}, {'ticker': 'VRA_USDT', 'price': '0.004424'}, {'ticker': 'SUKU_USDT', 'price': '0.04383'}, {'ticker': 'NCT_USDT', 'price': '0.01497'}, {'ticker': 'HUNT_USDT', 'price': '0.1519'}, {'ticker': 'TITAN_USDT', 'price': '0.0012'}, {'ticker': 'UMEE_USDT', 'price': '0.00418'}, {'ticker': 'ALPINE_USDT', 'price': '1.576'}, {'ticker': 'GMT_USDT', 'price': '0.2002'}, {'ticker': 'AERGO_USDT', 'price': '0.0954'}, {'ticker': 'APE_USDT', 'price': '1.901'}, {'ticker': 'NVIR_USDT', 'price': '0.0141'}, {'ticker': 'STG_USDT', 'price': '0.3374'}, {'ticker': 'CULT_USDT', 'price': '0.000003953'}, {'ticker': 'KSM_USDT', 'price': '37.65'}, {'ticker': 'ZELIX_USDT', 'price': '0.0000838'}, {'ticker': 'NYM_USDT', 'price': '0.1308'}, {'ticker': 'DAR_USDT', 'price': '0.1972'}, {'ticker': 'USDD_USDT', 'price': '0.99873'}, {'ticker': 'G_USDT', 'price': '0.0256'}, {'ticker': 'FITFI_USDT', 'price': '0.00456'}, {'ticker': 'BTC_USDD', 'price': '102881.89'}, {'ticker': 'ETH_USDD', 'price': '3846.01'}, {'ticker': 'TRX_USDD', 'price': '0.28501'}, {'ticker': 'BTT_USDD', 'price': '0.0000013011'}, {'ticker': 'JST_USDD', 'price': '0.042799'}, {'ticker': 'WIN_USDD', 'price': '0.00013347'}, {'ticker': 'SUN_USDD', 'price': '0.0246561'}, {'ticker': 'XRP_USDD', 'price': '2.3906'}, {'ticker': 'LTC_USDD', 'price': '124.77'}, {'ticker': 'DOT_USDD', 'price': '8.664'}, {'ticker': 'XCN_USDT', 'price': '0.0013'}, {'ticker': 'FRAX_USDT', 'price': '0.4'}, {'ticker': 'KUB_USDT', 'price': '1.349'}, {'ticker': 'WLKN_USDT', 'price': '0.00245'}, {'ticker': 'BNT_USDT', 'price': '0.7354'}, {'ticker': 'LOOM_USDT', 'price': '0.06741'}, {'ticker': 'KNC_USDT', 'price': '0.7051'}, {'ticker': 'SNT_USDT', 'price': '0.05309'}, {'ticker': 'LUNA_USDT', 'price': '0.543'}, {'ticker': 'LUNC_USDT', 'price': '0.00014219'}, {'ticker': 'ETHW_USDT', 'price': '4.109'}, {'ticker': 'ETHW_ETH', 'price': '0.00072'}, {'ticker': 'POLOTEST2_POLOTEST1', 'price': '5.5'}, {'ticker': 'POLOTEST3_POLOTEST4', 'price': '5.5'}, {'ticker': 'POLOTEST2_POLOTEST4', 'price': '5.5'}, {'ticker': 'POLOTEST2_POLOTEST3', 'price': '5.5'}, {'ticker': 'POLOTEST1_POLOTEST4', 'price': '5.5'}, {'ticker': 'POLOTEST1_POLOTEST3', 'price': '5.5'}, {'ticker': 'POLOTEST1_POLOTEST2', 'price': '5.5'}, {'ticker': 'SANTOS_USDT', 'price': '4.2001'}, {'ticker': 'NMR_USDT', 'price': '19.4'}, {'ticker': 'CVC_USDT', 'price': '0.2'}, {'ticker': 'STORJ_USDT', 'price': '0.5419'}, {'ticker': 'OMG_USDT', 'price': '0.4547'}, {'ticker': 'ETHF_USDT', 'price': '0.549'}, {'ticker': 'DC_USDT', 'price': '0.001028'}, {'ticker': 'SSV_USDT', 'price': '26'}, {'ticker': 'APX_USDT', 'price': '0.07641'}, {'ticker': 'CITY_USDT', 'price': '2.165'}, {'ticker': 'ZBCN_USDT', 'price': '0.00132'}, {'ticker': 'XEN_USDT', 'price': '0.00000025'}, {'ticker': 'BTS_USDT', 'price': '0.00286'}, {'ticker': 'DCR_USDT', 'price': '20.83'}, {'ticker': 'ARDR_USDT', 'price': '0.10796'}, {'ticker': 'GAS_USDT', 'price': '5.829'}, {'ticker': 'HFT_USDT', 'price': '0.2011'}, {'ticker': 'OP_USDT', 'price': '2.4978'}, {'ticker': 'GMX_USDT', 'price': '37.62'}, {'ticker': 'NEAR_USDT', 'price': '6.642'}, {'ticker': 'ACM_USDT', 'price': '1.9324'}, {'ticker': 'JUV_USDT', 'price': '1.5497'}, {'ticker': 'ASR_USDT', 'price': '1.7999'}, {'ticker': 'PSG_USDT', 'price': '3.067'}, {'ticker': 'TON1_USDT', 'price': '7.55'}, {'ticker': 'MASK_USDT', 'price': '3.969'}, {'ticker': 'ARG_USDT', 'price': '0.91'}, {'ticker': 'POR_USDT', 'price': '1.298'}, {'ticker': 'APT_USDT', 'price': '13.57'}, {'ticker': 'VELO_USDT', 'price': '0.029105'}, {'ticker': 'VINU_USDT', 'price': '0.00000005439'}, {'ticker': 'BAR_USDT', 'price': '2.803'}, {'ticker': 'ATM_USDT', 'price': '2.272'}, {'ticker': 'CEL_USDT', 'price': '0.165'}, {'ticker': 'BITCI_USDT', 'price': '0.000615'}, {'ticker': 'VGX_USDT', 'price': '0.0179'}, {'ticker': 'PORTO_USDT', 'price': '1.593'}, {'ticker': 'LAZIO_USDT', 'price': '2.018'}, {'ticker': 'FLR_USDT', 'price': '0.03005'}, {'ticker': 'UT_USDT', 'price': '0.00187'}, {'ticker': 'TRR_USDT', 'price': '0.0004'}, {'ticker': 'BONK_USDT', 'price': '0.000037281'}, {'ticker': 'OG_USDT', 'price': '7.25'}, {'ticker': 'VOLT_USDT', 'price': '0.00000042175'}, {'ticker': 'DUSK_USDT', 'price': '0.2945'}, {'ticker': 'GNS_USDT', 'price': '2.348'}, {'ticker': 'SUDO_USDT', 'price': '0.197'}, {'ticker': 'IGU_USDT', 'price': '0.0078'}, {'ticker': 'BABYDOGE_USDT', 'price': '0.000000002068'}, {'ticker': 'JET_USDT', 'price': '1.19364'}, {'ticker': 'ICP_USDT', 'price': '12.939'}, {'ticker': 'BLUR_USDT', 'price': '0.4055'}, {'ticker': 'CARMIN_USDT', 'price': '0.00100001'}, {'ticker': 'FET_USDT', 'price': '1.6991'}, {'ticker': 'CORE_USDT', 'price': '1.36'}, {'ticker': 'AGIX_USDT', 'price': '0.5938'}, {'ticker': 'RPL_USDT', 'price': '14.79'}, {'ticker': 'TSUKA_USDT', 'price': '0.00593'}, {'ticker': 'FACTR_USDT', 'price': '0.09399'}, {'ticker': 'GPT_USDT', 'price': '0.00887'}, {'ticker': 'BONE_USDT', 'price': '0.3177'}, {'ticker': 'ALI_USDT', 'price': '0.02396'}, {'ticker': 'SDAO_USDT', 'price': '0.4377'}, {'ticker': 'LOGT_USDT', 'price': '0.001'}, {'ticker': 'RDNT_USDT', 'price': '0.0781'}, {'ticker': 'ROCK_USDT', 'price': '0.000774'}, {'ticker': 'RIF_USDT', 'price': '0.136'}, {'ticker': 'BRISE_USDT', 'price': '0.0000001143'}, {'ticker': 'POOLX_USDT', 'price': '2.299'}, {'ticker': 'PAW_USDT', 'price': '0.00000573'}, {'ticker': 'PENDLE_USDT', 'price': '5.9628'}, {'ticker': 'ID_USDT', 'price': '0.5519'}, {'ticker': 'ARB_USDT', 'price': '0.9839'}, {'ticker': 'RUG_USDT', 'price': '0.00000007'}, {'ticker': 'BABYPEPE_USDT', 'price': '0.000000000104'}, {'ticker': 'CGPT_USDT', 'price': '0.1902'}, {'ticker': 'CHAD_USDT', 'price': '0.00000927'}, {'ticker': 'WOJAK_USDT', 'price': '0.0006881'}, {'ticker': 'AGI_USDT', 'price': '0.0023'}, {'ticker': 'PEPE_USDT', 'price': '0.00002352686'}, {'ticker': 'AIDOGE_USDT', 'price': '0.0000000003584'}, {'ticker': 'LZM_USDT', 'price': '0.00842'}, {'ticker': 'WIFI_USDT', 'price': '0.02977'}, {'ticker': 'RMV_USDT', 'price': '0.00673'}, {'ticker': 'POOH_USDT', 'price': '0.000000011'}, {'ticker': 'TURBO_USDT', 'price': '0.0018178'}, {'ticker': 'POGAI_USDT', 'price': '0.0000271'}, {'ticker': 'FLOKICEO_USDT', 'price': '0.00000000001198'}, {'ticker': 'SUI_USDT', 'price': '4.5425'}, {'ticker': 'BOB_USDT', 'price': '0.00003303'}, {'ticker': 'SOV_USDT', 'price': '0.0000000055'}, {'ticker': 'SOLO_USDT', 'price': '0.4959'}, {'ticker': 'COREUM_USDT', 'price': '0.266'}, {'ticker': 'CAPO_USDT', 'price': '0.00013'}, {'ticker': 'BEN_USDT', 'price': '0.00000000534'}, {'ticker': 'KING_USDT', 'price': '0.0000284'}, {'ticker': 'SPONGE_USDT', 'price': '0.000129'}, {'ticker': 'OGGY_USDT', 'price': '0.00000000001701'}, {'ticker': 'DONS_USDT', 'price': '0.0000712'}, {'ticker': 'PEPEAI_USDT', 'price': '0.00000000739'}, {'ticker': 'SIMPSON_USDT', 'price': '0.00000000000351'}, {'ticker': 'HARRY_USDT', 'price': '0.078891'}, {'ticker': 'LADYS_USDT', 'price': '0.0000000476'}, {'ticker': 'MONG_USDT', 'price': '0.000000006298'}, {'ticker': 'AMC_USDT', 'price': '0.2495'}, {'ticker': 'DMT_USDT', 'price': '0.03'}, {'ticker': 'LVL_USDT', 'price': '0.205'}, {'ticker': 'LOVESNOOPY_USDT', 'price': '0.00000000053'}, {'ticker': 'INU_USDT', 'price': '0.00000001011'}, {'ticker': 'FERC_USDT', 'price': '0.0094'}, {'ticker': 'STT_USDT', 'price': '0.3446'}, {'ticker': 'JESUS_USDT', 'price': '0.00000008219'}, {'ticker': 'PEPE2_USDT', 'price': '0.00000001994'}, {'ticker': 'MMT_USDT', 'price': '0.0461'}, {'ticker': 'UPP_USDT', 'price': '0.05'}, {'ticker': 'TOKAMAK_USDT', 'price': '2.2'}, {'ticker': 'MPWR_USDT', 'price': '0.0003999'}, {'ticker': 'MAV_USDT', 'price': '0.2781'}, {'ticker': 'TITTY_USDT', 'price': '0.00000002'}, {'ticker': 'L_USDT', 'price': '0.0000000405'}, {'ticker': 'TOMI_USDT', 'price': '0.175'}, {'ticker': 'OX_USDT', 'price': '0.00869'}, {'ticker': 'ORDI_USDT', 'price': '39.66'}, {'ticker': 'VMPX_USDT', 'price': '0.0291'}, {'ticker': 'PLANET_USDT', 'price': '0.00000488'}, {'ticker': 'VOW_USDT', 'price': '0.0945'}, {'ticker': 'UNIBOT_USDT', 'price': '52.87'}, {'ticker': 'HOPPY_USDT', 'price': '0.00000000064'}, {'ticker': 'OSMO_USDT', 'price': '0.6439'}, {'ticker': 'WSTUSDT_USDT', 'price': '1.0197'}, {'ticker': 'HAM_USDT', 'price': '0.000000001099'}, {'ticker': 'PEPE20_USDT', 'price': '0.000000000135'}, {'ticker': 'SHIB2_USDT', 'price': '0.00000000136'}, {'ticker': 'DOGE2_USDT', 'price': '0.00000000899'}, {'ticker': 'TOSHI_USDT', 'price': '0.00024216'}, {'ticker': 'WINR_USDT', 'price': '0.04012'}, {'ticker': 'WLD_USDT', 'price': '2.996'}, {'ticker': 'X_USDT', 'price': '0.0000000001066'}, {'ticker': 'BAD_USDT', 'price': '0.00000001005'}, {'ticker': 'MOG_USDT', 'price': '0.00000041817'}, {'ticker': 'LOOT_USDT', 'price': '0.0599'}, {'ticker': 'SG_USDT', 'price': '0.0279'}, {'ticker': 'BTP_USDT', 'price': '0.09'}, {'ticker': 'AITECH_USDT', 'price': '0.10175'}, {'ticker': 'SHIA_USDT', 'price': '0.0004'}, {'ticker': 'LL_USDT', 'price': '0.00000000235'}, {'ticker': 'STMX_USDT', 'price': '0.007421'}, {'ticker': 'GMMT_USDT', 'price': '0.01385'}, {'ticker': 'APX1_USDT', 'price': '0.00024994'}, {'ticker': 'SMURFCAT_USDT', 'price': '0.00020175'}, {'ticker': 'SATS_USDT', 'price': '0.00000022322'}, {'ticker': 'HIFI_USDT', 'price': '0.639'}, {'ticker': 'VEXT_USDT', 'price': '0.018'}, {'ticker': 'BANANA_USDT', 'price': '25.062'}, {'ticker': 'CCROWD_USDT', 'price': '0.00169'}, {'ticker': 'DORKL_USDT', 'price': '0.002949'}, {'ticker': 'ETHPEPE2_USDT', 'price': '0.000012'}, {'ticker': 'ETF_USDT', 'price': '0.00487'}, {'ticker': 'NAKA_USDT', 'price': '1.3265'}, {'ticker': 'NLC_USDT', 'price': '0.00034'}, {'ticker': 'SIX_USDT', 'price': '0.0361'}, {'ticker': 'APU_USDT', 'price': '0.000000302'}, {'ticker': 'REKT2_USDT', 'price': '1.38'}, {'ticker': 'BIGTIME_USDT', 'price': '0.2651'}, {'ticker': 'OPOS_USDT', 'price': '0.14'}, {'ticker': 'RATS_USDT', 'price': '0.00008557'}, {'ticker': 'PAAL_USDT', 'price': '0.3081'}, {'ticker': 'GROK_USDT', 'price': '0.0042'}, {'ticker': 'KAS_USDT', 'price': '0.1562'}, {'ticker': 'AMO_USDT', 'price': '0.001769'}, {'ticker': 'MEMELAND_USDT', 'price': '0.015006'}, {'ticker': 'CRE_USDT', 'price': '0.00012997'}, {'ticker': 'JTO_USDT', 'price': '4.083'}, {'ticker': 'FTN_USDT', 'price': '3.239'}, {'ticker': 'IOT_USDT', 'price': '0.001152'}, {'ticker': 'HNT_USDT', 'price': '8.53'}, {'ticker': 'MOBILE_USDT', 'price': '0.001419'}, {'ticker': 'MYRO_USDT', 'price': '0.10023'}, {'ticker': 'PMG_USDT', 'price': '0.0605'}, {'ticker': 'MND_USDT', 'price': '0.028'}, {'ticker': 'BYTE_USDT', 'price': '0.00001232'}, {'ticker': 'FLIP_USDT', 'price': '1'}, {'ticker': 'GEC_USDT', 'price': '0.054'}, {'ticker': 'STX_USDT', 'price': '2.5401'}, {'ticker': 'MNDE_USDT', 'price': '0.1456'}, {'ticker': 'TURT_USDT', 'price': '0.00399'}, {'ticker': 'MUBI_USDT', 'price': '0.0491'}, {'ticker': 'NFP_USDT', 'price': '0.5067'}, {'ticker': 'BFIC_USDT', 'price': '1.64'}, {'ticker': 'DOVI_USDT', 'price': '0.3598'}, {'ticker': 'XPE_USDT', 'price': '0.1428'}, {'ticker': 'SEEU_USDT', 'price': '0.0000206'}, {'ticker': 'ANALOS_USDT', 'price': '0.000058'}, {'ticker': 'KNOB_USDT', 'price': '0.00001'}, {'ticker': 'AI_USDT', 'price': '0.00058'}, {'ticker': 'PONKE_USDT', 'price': '0.4813'}, {'ticker': 'ACE_USDT', 'price': '2.69'}, {'ticker': 'ZERO_USDT', 'price': '0.2098'}, {'ticker': 'SILLY_USDT', 'price': '0.01131'}, {'ticker': 'COM_USDT', 'price': '0.125'}, {'ticker': 'RAY_USDT', 'price': '5.1838'}, {'ticker': 'RDEX_USDT', 'price': '0.0617'}, {'ticker': 'CSAS_USDT', 'price': '0.00278'}, {'ticker': 'MMSS_USDT', 'price': '0.0395'}, {'ticker': 'LONG1_USDT', 'price': '0.0116'}, {'ticker': 'ZKF_USDT', 'price': '0.00075'}, {'ticker': 'COQ_USDT', 'price': '0.000002078'}, {'ticker': 'USEDCAR_USDT', 'price': '0.00569'}, {'ticker': 'GUAC_USDT', 'price': '0.00000009'}, {'ticker': 'BSSB1_USDT', 'price': '0.238'}, {'ticker': 'ORDS_USDT', 'price': '0.00679'}, {'ticker': 'AI1_USDT', 'price': '0.68'}, {'ticker': 'FERRET_USDT', 'price': '0.000038'}, {'ticker': 'MUSKX_USDT', 'price': '0.00058'}, {'ticker': 'MYRA_USDT', 'price': '0.0004127'}, {'ticker': 'DACC_USDT', 'price': '0.0001808'}, {'ticker': 'ZUZALU_USDT', 'price': '0.000951'}, {'ticker': 'EGG_USDT', 'price': '0.0007'}, {'ticker': 'BOZO_USDT', 'price': '0.000000023'}, {'ticker': 'TRAC_USDT', 'price': '1.124'}, {'ticker': 'FENTANYL_USDT', 'price': '0.0000035'}, {'ticker': 'SFARM_USDT', 'price': '0.05'}, {'ticker': 'TROLL_USDT', 'price': '0.000000018853'}, {'ticker': 'WIF_USDT', 'price': '2.9246'}, {'ticker': 'HTX_USDT', 'price': '0.00000247'}, {'ticker': 'SBF_USDT', 'price': '0.00042'}, {'ticker': 'BFI_USDT', 'price': '0.000017'}, {'ticker': 'SMILEY_USDT', 'price': '0.000000000003512'}, {'ticker': 'SAVM_USDT', 'price': '1.8'}, {'ticker': 'ONDO_USDT', 'price': '1.8603'}, {'ticker': 'CROCCAT_USDT', 'price': '0.000159'}, {'ticker': 'MOCKJUP_USDT', 'price': '0.00743'}, {'ticker': 'WYNN_USDT', 'price': '0.00204'}, {'ticker': 'BAKE_USDT', 'price': '0.297'}, {'ticker': 'TRUMP_USDT', 'price': '1.622'}, {'ticker': 'CHOW_USDT', 'price': '0.000000095'}, {'ticker': 'HONK_USDT', 'price': '0.00254'}, {'ticker': 'GTAI_USDT', 'price': '0.9405'}, {'ticker': 'ALT_USDT', 'price': '0.16492'}, {'ticker': 'FOMO_USDT', 'price': '0.0036'}, {'ticker': 'LAMBOSOL_USDT', 'price': '0.0124'}, {'ticker': 'INS_USDT', 'price': '0.0174'}, {'ticker': 'JUP_USDT', 'price': '1.1059'}, {'ticker': 'SSB_USDT', 'price': '0.000097'}, {'ticker': 'MEOW_USDT', 'price': '0.00000027'}, {'ticker': 'TELEPATHY_USDT', 'price': '0.004'}, {'ticker': 'WEN_USDT', 'price': '0.000113'}, {'ticker': 'GME_USDT', 'price': '0.005281'}, {'ticker': 'PEAS_USDT', 'price': '11.01'}, {'ticker': 'SNOW_USDT', 'price': '0.000000000548'}, {'ticker': 'PONK_USDT', 'price': '0.00000000292'}, {'ticker': 'CHINU_USDT', 'price': '0.000186'}, {'ticker': 'AERODROME_USDT', 'price': '2.85999'}, {'ticker': 'PIXEL_USDT', 'price': '0.2295'}, {'ticker': 'STRK_USDT', 'price': '0.619'}, {'ticker': 'JIVA_USDT', 'price': '0.00009'}, {'ticker': 'SORA_USDT', 'price': '0.00337'}, {'ticker': 'MAVIA_USDT', 'price': '1.42'}, {'ticker': 'SPYRO_USDT', 'price': '0.000000037'}, {'ticker': 'NAVX_USDT', 'price': '0.09'}, {'ticker': 'WHALES_USDT', 'price': '0.2929'}, {'ticker': 'LMWR_USDT', 'price': '0.3043'}, {'ticker': 'BFICGOLD_BFIC', 'price': '0.2581'}, {'ticker': 'YES_USDT', 'price': '4.98'}, {'ticker': 'GMEONETH_USDT', 'price': '0.000034'}, {'ticker': 'SQUIDSOL_USDT', 'price': '0.0001459'}, {'ticker': 'ZETA_USDT', 'price': '0.8784'}, {'ticker': 'PEBO_USDT', 'price': '0.0000669'}, {'ticker': 'AC_USDT', 'price': '0.0186'}, {'ticker': 'TREMP_USDT', 'price': '0.06215'}, {'ticker': 'BIF_USDT', 'price': '0.000138'}, {'ticker': 'SHU_USDT', 'price': '0.0189'}, {'ticker': 'TBANK_USDT', 'price': '0.1111'}, {'ticker': 'ICENETWORK_USDT', 'price': '0.007253'}, {'ticker': 'CHAT_USDT', 'price': '0.154'}, {'ticker': 'ML_USDT', 'price': '0.14219'}, {'ticker': 'BENDOG_USDT', 'price': '0.011914'}, {'ticker': 'BEOBLE_USDT', 'price': '0.00777'}, {'ticker': 'PORK_USDT', 'price': '0.00000012'}, {'ticker': 'HGG_USDT', 'price': '0.001993'}, {'ticker': 'XPET_USDT', 'price': '0.1289'}, {'ticker': 'KLIMA_USDT', 'price': '1.093'}, {'ticker': 'CLOSEDAI_USDT', 'price': '0.0000135'}, {'ticker': 'BRETT_USDT', 'price': '0.16865'}, {'ticker': 'PENG_USDT', 'price': '0.15161'}, {'ticker': 'OPSECOLD_USDT', 'price': '0.0595'}, {'ticker': 'UPDOG_USDT', 'price': '0.001108'}, {'ticker': 'PORTAL_USDT', 'price': '0.489'}, {'ticker': 'ALVA_USDT', 'price': '0.34508'}, {'ticker': 'HEMULE_USDT', 'price': '0.00666'}, {'ticker': 'CAF_USDT', 'price': '0.0002'}, {'ticker': 'FORK_USDT', 'price': '0.000000019'}, {'ticker': 'SOLCHAT_USDT', 'price': '1.091'}, {'ticker': 'POPCAT_USDT', 'price': '1.1076'}, {'ticker': 'TYT_USDT', 'price': '0.003'}, {'ticker': 'NEVER_USDT', 'price': '0.00001619'}, {'ticker': 'BOME_USDT', 'price': '0.0080277'}, {'ticker': 'AEVO_USDT', 'price': '0.518'}, {'ticker': 'MUMU_USDT', 'price': '0.000054999'}, {'ticker': 'OETH_ETH', 'price': '0.997404'}, {'ticker': 'OETH_USDT', 'price': '3943.99'}, {'ticker': 'PRISMA_USDT', 'price': '0.0637'}, {'ticker': 'BFICGOLD_USDT', 'price': '0.039'}, {'ticker': 'SYNC_USDT', 'price': '0.00022'}, {'ticker': 'WTAO_USDT', 'price': '0.00259'}, {'ticker': 'GPU_USDT', 'price': '1.5448'}, {'ticker': 'DEPD_USDT', 'price': '0.00017'}, {'ticker': 'MOZ_USDT', 'price': '0.0202'}, {'ticker': 'BVM_USDT', 'price': '0.478'}, {'ticker': 'SCA_USDT', 'price': '0.417'}, {'ticker': 'NOCHILL_USDT', 'price': '0.003766'}, {'ticker': 'NAP_USDT', 'price': '0.00000253'}, {'ticker': 'WEETH_ETH', 'price': '0.110005'}, {'ticker': 'SLERF_USDT', 'price': '0.2172'}, {'ticker': 'GTOP_USDT', 'price': '0.000035'}, {'ticker': 'ETHFI_USDT', 'price': '2.6726'}, {'ticker': 'POGAISOL_USDT', 'price': '0.0000078'}, {'ticker': 'BINU_USDT', 'price': '0.00006'}, {'ticker': 'ACRIA_USDT', 'price': '0.0148'}, {'ticker': 'MOROS_USDT', 'price': '0.00042'}, {'ticker': 'ANDYSOL_USDT', 'price': '0.00209'}, {'ticker': 'PANDA_USDT', 'price': '0.000125'}, {'ticker': 'COME_USDT', 'price': '0.00000128'}, {'ticker': 'FIRE_USDT', 'price': '0.7431'}, {'ticker': 'NGL_USDT', 'price': '0.136'}, {'ticker': 'DEGEN_USDT', 'price': '0.015'}, {'ticker': 'BRIUN_USDT', 'price': '0.00224'}, {'ticker': 'NORMIEOLD_USDT', 'price': '0.0002'}, {'ticker': 'PRIME_USDT', 'price': '14'}, {'ticker': 'GRIMACE_USDT', 'price': '3.172'}, {'ticker': 'SMOLE_USDT', 'price': '0.000046'}, {'ticker': 'MAIL_USDT', 'price': '0.00087'}, {'ticker': 'FOMOBASE_USDT', 'price': '0.000039'}, {'ticker': 'DOGINME_USDT', 'price': '0.000925'}, {'ticker': 'SORABTC_USDT', 'price': '0.022'}, {'ticker': 'LIME_USDT', 'price': '0.05423'}, {'ticker': 'MEW_USDT', 'price': '0.007758'}, {'ticker': 'PUNDU_USDT', 'price': '0.00572'}, {'ticker': 'BASEDAI_USDT', 'price': '5.551'}, {'ticker': 'BODEN_USDT', 'price': '0.0032'}, {'ticker': 'PUMP_USDT', 'price': '0.000000644'}, {'ticker': 'BENJI_USDT', 'price': '0.02116'}, {'ticker': 'CWIF_USDT', 'price': '0.000000353'}, {'ticker': 'VENOM_USDT', 'price': '0.0735'}, {'ticker': 'MOGGO_USDT', 'price': '0.0499'}, {'ticker': 'DOG_USDT', 'price': '0.00525'}, {'ticker': 'IXS_USDT', 'price': '0.5061'}, {'ticker': 'TPU_USDT', 'price': '0.00011'}, {'ticker': 'NEURA_USDT', 'price': '0.03744'}, {'ticker': 'ARCX_USDT', 'price': '0.599'}, {'ticker': 'CSWAP_USDT', 'price': '0.05'}, {'ticker': 'DAW_USDT', 'price': '0.000125'}, {'ticker': 'ALU_USDT', 'price': '0.10602'}, {'ticker': 'SPCT_USDT', 'price': '0.00044'}, {'ticker': 'YAI_USDT', 'price': '0.0321'}, {'ticker': 'DEAI_USDT', 'price': '0.7221'}, {'ticker': 'HIGHER_USDT', 'price': '0.02422'}, {'ticker': 'TYBG_USDT', 'price': '0.0001579'}, {'ticker': 'HOBBES_USDT', 'price': '0.00073'}, {'ticker': 'BSHIB_USDT', 'price': '0.000065'}, {'ticker': 'ENA_USDT', 'price': '1.0064'}, {'ticker': 'MFER_USDT', 'price': '0.0267'}, {'ticker': 'STOS_USDT', 'price': '0.749'}, {'ticker': 'T_USDT', 'price': '0.02974'}, {'ticker': 'PUPS_USDT', 'price': '1.46'}, {'ticker': 'APUFF_USDT', 'price': '0.00798'}, {'ticker': 'USDE_USDT', 'price': '0.996'}, {'ticker': 'XEROAI_USDT', 'price': '0.03806'}, {'ticker': 'ANDYETH_USDT', 'price': '0.0003009'}, {'ticker': 'RIVUS_USDT', 'price': '0.00014'}, {'ticker': 'BORED_USDT', 'price': '0.000333'}, {'ticker': 'LOCK_USDT', 'price': '0.00018'}, {'ticker': 'SHARKCAT_USDT', 'price': '0.0111'}, {'ticker': 'CHKN_USDT', 'price': '0.000000042'}, {'ticker': 'NAO_USDT', 'price': '0.0211'}, {'ticker': 'O4DX_USDT', 'price': '0.0493'}, {'ticker': 'TNSR_USDT', 'price': '0.6244'}, {'ticker': 'X314_USDT', 'price': '0.006'}, {'ticker': 'KAI_USDT', 'price': '0.0472'}, {'ticker': 'COINYE_USDT', 'price': '0.00205'}, {'ticker': 'ASTO_USDT', 'price': '0.04302'}, {'ticker': 'BASEFOMO_USDT', 'price': '0.00009'}, {'ticker': 'RB_USDT', 'price': '0.02'}, {'ticker': 'TOOKER_USDT', 'price': '0.00408'}, {'ticker': 'SPEEDY_USDT', 'price': '0.00000046'}, {'ticker': 'RAIL_USDT', 'price': '0.2362'}, {'ticker': 'WZRD_USDT', 'price': '5.89'}, {'ticker': 'OLM_USDT', 'price': '0.01977'}, {'ticker': 'CREO_USDT', 'price': '0.05636'}, {'ticker': 'POON_USDT', 'price': '0.000236'}, {'ticker': 'AREA_USDT', 'price': '0.0581'}, {'ticker': 'MICHI_USDT', 'price': '0.1388'}, {'ticker': 'FLUFF_USDT', 'price': '0.002'}, {'ticker': 'BUNNY_USDT', 'price': '0.00012'}, {'ticker': 'YESBUT_USDT', 'price': '0.000169'}, {'ticker': 'CATGPT_USDT', 'price': '0.000148'}, {'ticker': 'MSN_USDT', 'price': '0.13'}, {'ticker': 'ELONETH_USDT', 'price': '0.00001469'}, {'ticker': 'LAVA_USDT', 'price': '0.0154'}, {'ticker': 'MANEKI_USDT', 'price': '0.006845'}, {'ticker': 'NOGS_USDT', 'price': '0.000043'}, {'ticker': 'SAFE_USDT', 'price': '2.059'}, {'ticker': 'ATR_USDT', 'price': '0.062575'}, {'ticker': 'MERL_USDT', 'price': '0.5'}, {'ticker': 'FRENS_USDT', 'price': '0.000022'}, {'ticker': 'GUMMY_USDT', 'price': '0.00779'}, {'ticker': 'HAMMY_USDT', 'price': '0.00646'}, {'ticker': 'USA_USDT', 'price': '0.000001421'}, {'ticker': 'ARKY_USDT', 'price': '0.000000252'}, {'ticker': 'ZEROLEND_USDT', 'price': '0.0004984'}, {'ticker': 'PINK_USDT', 'price': '0.0018916'}, {'ticker': 'ANYONE_USDT', 'price': '0.8211'}, {'ticker': 'MONKE_USDT', 'price': '0.000124'}, {'ticker': 'PIKA_USDT', 'price': '0.000098'}, {'ticker': 'SPEED_USDT', 'price': '0.00133'}, {'ticker': 'BUBBLE_USDT', 'price': '0.00927'}, {'ticker': 'AIUS_USDT', 'price': '86.55'}, {'ticker': 'ROGER_USDT', 'price': '0.000067'}, {'ticker': 'MIKI_USDT', 'price': '0.000026'}, {'ticker': 'SLOTH_USDT', 'price': '0.00389'}, {'ticker': 'CHUD_USDT', 'price': '0.01136'}, {'ticker': 'KABAL_USDT', 'price': '0.000022'}, {'ticker': 'TILLY_USDT', 'price': '0.000018'}, {'ticker': 'ARGSOL_USDT', 'price': '0.00049'}, {'ticker': 'SOLCEX_USDT', 'price': '0.018'}, {'ticker': 'CTA_USDT', 'price': '0.0467'}, {'ticker': 'MEX_USDT', 'price': '0.00000511'}, {'ticker': 'RBX_USDT', 'price': '0.0136'}, {'ticker': 'GMEETH_USDT', 'price': '0.000244'}, {'ticker': 'KITTY_USDT', 'price': '0.002506'}, {'ticker': 'EGLD_USDT', 'price': '46.24'}, {'ticker': 'BEBE_USDT', 'price': '0.00002501'}, {'ticker': 'MAGA_USDT', 'price': '0.000090631'}, {'ticker': 'DRIFT_USDT', 'price': '1.2503'}, {'ticker': 'REEE_USDT', 'price': '0.000183'}, {'ticker': 'SKATECAT_USDT', 'price': '0.000037'}, {'ticker': 'SELFIE_USDT', 'price': '0.0175'}, {'ticker': 'BEPE_USDT', 'price': '0.000375'}, {'ticker': 'HABIBI_USDT', 'price': '0.00446'}, {'ticker': 'COST_USDT', 'price': '0.00751'}, {'ticker': 'TESTSOL_USDT', 'price': '0.000282'}, {'ticker': 'AMCSOL_USDT', 'price': '0.00135'}, {'ticker': 'FOFAR_USDT', 'price': '0.00000844'}, {'ticker': 'NVDA_USDT', 'price': '0.000489'}, {'ticker': 'NIM_USDT', 'price': '0.01882'}, {'ticker': 'NOHAT_USDT', 'price': '0.000313'}, {'ticker': 'MOOCAT_USDT', 'price': '0.000062'}, {'ticker': 'WIFMAGA_USDT', 'price': '0.0017'}, {'ticker': 'BUILD_USDT', 'price': '0.00000474'}, {'ticker': 'ZACK_USDT', 'price': '0.0025'}, {'ticker': 'GOME_USDT', 'price': '0.001014'}, {'ticker': 'NAMI_USDT', 'price': '0.000146'}, {'ticker': 'HODL_USDT', 'price': '0.0000000000035'}, {'ticker': 'BAZINGA_USDT', 'price': '0.00336'}, {'ticker': 'MOTHER_USDT', 'price': '0.04302'}, {'ticker': 'MOJO_USDT', 'price': '0.00008'}, {'ticker': 'PEW_USDT', 'price': '0.000001469'}, {'ticker': 'CAT_USDT', 'price': '0.00033'}, {'ticker': 'GROYPER_USDT', 'price': '0.0349'}, {'ticker': 'ULTRA_USDT', 'price': '0.000000127'}, {'ticker': 'ASTR_USDT', 'price': '0.07489'}, {'ticker': 'MAGASOL_USDT', 'price': '0.0092'}, {'ticker': 'ABI_USDT', 'price': '134.6'}, {'ticker': 'BEERSOL_USDT', 'price': '0.00001007'}, {'ticker': 'PEPESOLCOMM_USDT', 'price': '0.013561'}, {'ticker': 'ZION_USDT', 'price': '0.000037'}, {'ticker': 'PEPEBASE_USDT', 'price': '0.00000000367'}, {'ticker': 'XB_USDT', 'price': '0.489999'}, {'ticker': 'MAMBA_USDT', 'price': '0.000052'}, {'ticker': 'MCOIN_USDT', 'price': '0.1271'}, {'ticker': 'HONKETH_USDT', 'price': '0.0000000082'}, {'ticker': 'COK_USDT', 'price': '0.000014664'}, {'ticker': 'TMANIA_USDT', 'price': '0.00017'}, {'ticker': 'MOTH_USDT', 'price': '0.000786'}, {'ticker': 'BIRDDOG_USDT', 'price': '0.002011'}, {'ticker': 'OPPIE_USDT', 'price': '0.000227'}, {'ticker': 'MAGAPEPE_USDT', 'price': '0.0000000000041'}, {'ticker': 'WALTER_USDT', 'price': '0.003763'}, {'ticker': 'CATFROG_USDT', 'price': '0.0004'}, {'ticker': 'KENDU_USDT', 'price': '0.0000332'}, {'ticker': 'CHAN_USDT', 'price': '0.000666'}, {'ticker': 'BULEI_USDT', 'price': '0.0000012'}, {'ticker': 'DADDY_USDT', 'price': '0.0603'}, {'ticker': 'PIZZA_USDT', 'price': '2.215'}, {'ticker': 'RCH_USDT', 'price': '0.7'}, {'ticker': 'RNT_USDT', 'price': '0.00555'}, {'ticker': 'DUKO_USDT', 'price': '0.001227'}, {'ticker': 'SPURDOETH_USDT', 'price': '0.0027'}, {'ticker': 'PEIPEI_USDT', 'price': '0.00000014688'}, {'ticker': 'WYAC_USDT', 'price': '0.009998'}, {'ticker': 'XDC_USDT', 'price': '0.08159'}, {'ticker': 'MACHO_USDT', 'price': '0.00027'}, {'ticker': 'TROG_USDT', 'price': '0.00002601'}, {'ticker': 'BOBO_USDT', 'price': '0.000001255'}, {'ticker': 'HAWKTUAH_USDT', 'price': '0.00079'}, {'ticker': 'NOTCOIN_USDT', 'price': '0.00751'}, {'ticker': 'APECOIN_USDT', 'price': '0.000000251'}, {'ticker': 'CHIPPY_USDT', 'price': '0.000313'}, {'ticker': 'TRUMPNS_USDT', 'price': '0.00000149'}, {'ticker': 'ZRO_USDT', 'price': '6.321'}, {'ticker': 'XZK_USDT', 'price': '0.0399'}, {'ticker': 'KAIKEN_USDT', 'price': '0.00000000929'}, {'ticker': 'DJT_USDT', 'price': '0.00029'}, {'ticker': 'DED_USDT', 'price': '0.0000023'}, {'ticker': 'BILLYSOL_USDT', 'price': '0.06681'}, {'ticker': 'WOLFSOL_USDT', 'price': '0.001469'}, {'ticker': 'ZK_USDT', 'price': '0.2214'}, {'ticker': 'OLYMPE_USDT', 'price': '0.00000003'}, {'ticker': 'DOOGLE_USDT', 'price': '0.00032'}, {'ticker': 'GIOVE_USDT', 'price': '3.0214'}, {'ticker': 'BARRON_USDT', 'price': '0.000389'}, {'ticker': 'MOCA_USDT', 'price': '0.08987'}, {'ticker': 'FLAPPY_USDT', 'price': '0.00000183'}, {'ticker': 'RIS_USDT', 'price': '0.0805'}, {'ticker': 'DOGGS_USDT', 'price': '0.00015'}, {'ticker': 'SPIKE_USDT', 'price': '0.00016'}, {'ticker': 'CAD_USDT', 'price': '0.04749'}, {'ticker': 'TRUTH_USDT', 'price': '0.0043'}, {'ticker': 'MEOWCOIN_USDT', 'price': '0.00000022'}, {'ticker': 'SANSHU_USDT', 'price': '0.000979'}, {'ticker': 'FISH_USDT', 'price': '0.00000001157'}, {'ticker': 'WATER_USDT', 'price': '0.000089'}, {'ticker': 'MIGGLES_USDT', 'price': '0.10028'}, {'ticker': 'TRUMPAMANIA_USDT', 'price': '0.00000013'}, {'ticker': 'BILL_USDT', 'price': '0.0000016'}, {'ticker': 'SWAG_USDT', 'price': '0.1103'}, {'ticker': 'FEARNOT_USDT', 'price': '0.00000988'}, {'ticker': 'RETARDIO_USDT', 'price': '0.0965'}, {'ticker': 'PIXFI_USDT', 'price': '0.004234'}, {'ticker': 'UXLINK_USDT', 'price': '0.2724'}, {'ticker': 'A8_USDT', 'price': '0.3326'}, {'ticker': 'BLAST_USDT', 'price': '0.01119'}, {'ticker': 'FIGHTSOL_USDT', 'price': '0.00023'}, {'ticker': 'LWOLF_USDT', 'price': '0.00021774'}, {'ticker': 'NPC_USDT', 'price': '0.03981'}, {'ticker': 'FIGHT_USDT', 'price': '0.0097'}, {'ticker': 'EAR_USDT', 'price': '0.00011'}, {'ticker': 'BWORM_USDT', 'price': '11.000004'}, {'ticker': 'SUNDOG_USDT', 'price': '0.13667'}, {'ticker': 'RAKE_USDT', 'price': '0.0002708'}, {'ticker': 'AJUN_USDT', 'price': '0.01642'}, {'ticker': 'KEN_USDT', 'price': '0.00012'}, {'ticker': 'GINNAN_USDT', 'price': '0.000001797'}, {'ticker': 'L3_USDT', 'price': '0.10954'}, {'ticker': 'MOYA_USDT', 'price': '0.00000000049'}, {'ticker': 'GAY_USDT', 'price': '0.000148'}, {'ticker': 'MSI_USDT', 'price': '0.000000684'}, {'ticker': 'NEIROETH_USDT', 'price': '0.05001'}, {'ticker': 'NEIRO_USDT', 'price': '0.00599'}, {'ticker': 'PARRY_USDT', 'price': '0.00008'}, {'ticker': 'LRDS_USDT', 'price': '0.706'}, {'ticker': 'KAMA_USDT', 'price': '0.00018'}, {'ticker': 'DELON_USDT', 'price': '0.00000087'}, {'ticker': 'TRONY_USDT', 'price': '0.00013'}, {'ticker': 'YORI_USDT', 'price': '0.00004'}, {'ticker': 'SUNPEPE_USDT', 'price': '0.000221'}, {'ticker': 'HAMMYTRON_USDT', 'price': '0.0000218'}, {'ticker': 'PILLS_USDT', 'price': '0.0000805'}, {'ticker': 'SUNDOGE_USDT', 'price': '0.000015'}, {'ticker': 'IVFUN_USDT', 'price': '0.001803'}, {'ticker': 'SWIF_USDT', 'price': '0.000024'}, {'ticker': 'SPT_USDT', 'price': '0.0001428'}, {'ticker': 'BIAOTRON_USDT', 'price': '0.000581'}, {'ticker': 'BLAKE_USDT', 'price': '0.000038'}, {'ticker': 'FOFARTRON_USDT', 'price': '0.0015012'}, {'ticker': 'TINU_USDT', 'price': '0.000017'}, {'ticker': 'TIEDAN_USDT', 'price': '0.0001999'}, {'ticker': 'TBULL_USDT', 'price': '0.007416'}, {'ticker': 'SUNCAT_USDT', 'price': '0.0045'}, {'ticker': 'SUNRATS_USDT', 'price': '0.000089'}, {'ticker': 'SUNEO_USDT', 'price': '0.00001324'}, {'ticker': 'SUNNED_USDT', 'price': '0.000186'}, {'ticker': 'TROGE_USDT', 'price': '0.0000685'}, {'ticker': 'BULLTRON_USDT', 'price': '0.0000239'}, {'ticker': 'XP_USDT', 'price': '0.00001501'}, {'ticker': 'ODUNG_USDT', 'price': '0.0000176'}, {'ticker': 'MEGA_USDT', 'price': '0.000017'}, {'ticker': 'WUKONG_USDT', 'price': '0.0007'}, {'ticker': 'DOGEETH_USDT', 'price': '0.1992'}, {'ticker': 'ANDYBLAST_USDT', 'price': '0.0339'}, {'ticker': 'DPOOL_USDT', 'price': '0.000000063'}, {'ticker': 'FEELS_USDT', 'price': '0.00011'}, {'ticker': 'SOON_USDT', 'price': '0.000059'}, {'ticker': 'ZEUS_USDT', 'price': '0.0000272'}, {'ticker': 'MWD_USDT', 'price': '0.000309'}, {'ticker': 'CSUN_USDT', 'price': '0.000031'}, {'ticker': 'SUNKEY_USDT', 'price': '0.000012'}, {'ticker': 'XLG_USDT', 'price': '0.000177'}, {'ticker': 'CCCTRON_USDT', 'price': '0.0001799'}, {'ticker': 'CZ_USDT', 'price': '0.000008'}, {'ticker': 'EBULL_USDT', 'price': '0.0007113'}, {'ticker': 'ROCKTRON_USDT', 'price': '0.000379'}, {'ticker': 'BOG_USDT', 'price': '0.000327'}, {'ticker': 'MOONDOG_USDT', 'price': '0.00000853'}, {'ticker': 'FRED_USDT', 'price': '0.000104'}, {'ticker': 'SUYA_USDT', 'price': '0.00006'}, {'ticker': 'ZHUBAJIE_USDT', 'price': '0.000015'}, {'ticker': 'CATBSC_USDT', 'price': '0.00005079'}, {'ticker': 'TCAT_USDT', 'price': '0.000449'}, {'ticker': 'NIHAO_USDT', 'price': '0.000016'}, {'ticker': 'MUNCAT_USDT', 'price': '0.00368'}, {'ticker': 'CZC_USDT', 'price': '0.00845'}, {'ticker': 'TRONDOG_USDT', 'price': '0.000064'}, {'ticker': 'BRUH_USDT', 'price': '0.000182'}, {'ticker': 'TZU_USDT', 'price': '0.000028'}, {'ticker': 'ELMO_USDT', 'price': '0.000032'}, {'ticker': 'TOPCAT_USDT', 'price': '0.00017'}, {'ticker': 'SBTF_USDT', 'price': '0.000009'}, {'ticker': 'MAD_USDT', 'price': '0.0000009'}, {'ticker': 'PSYOPTRON_USDT', 'price': '0.000717'}, {'ticker': 'KIT_USDT', 'price': '0.000019'}, {'ticker': 'FREEDUROV_USDT', 'price': '0.000013'}, {'ticker': 'JEMAN_USDT', 'price': '0.000117'}, {'ticker': 'TRONBULL_USDT', 'price': '0.0487'}, {'ticker': 'KAIA_USDT', 'price': '0.000016'}, {'ticker': 'DRGN_USDT', 'price': '0.00018'}, {'ticker': 'EDOGE_USDT', 'price': '0.00063'}, {'ticker': 'TERMINUS_USDT', 'price': '0.0004'}, {'ticker': 'MOODENG_USDT', 'price': '0.37912'}, {'ticker': 'IVEX_USDT', 'price': '0.3642'}, {'ticker': 'TOTHESUN_USDT', 'price': '0.0000849'}, {'ticker': 'DOGE1_USDT', 'price': '0.000000113'}, {'ticker': 'CATE_USDT', 'price': '0.00199'}, {'ticker': 'WHALETRX_USDT', 'price': '0.000202'}, {'ticker': 'NEIROTRX_USDT', 'price': '0.000226'}, {'ticker': 'HARAMBE_USDT', 'price': '0.0001354'}, {'ticker': 'WUKONGETH_USDT', 'price': '0.00000363'}, {'ticker': 'NEIROCTO_USDT', 'price': '0.00160621'}, {'ticker': 'MEOWKA_USDT', 'price': '0.000017'}, {'ticker': 'SUNPUNK_USDT', 'price': '0.000249'}, {'ticker': 'XD_USDT', 'price': '0.000517'}, {'ticker': 'VIKITA_USDT', 'price': '0.0033'}, {'ticker': 'CSI_USDT', 'price': '0.004901'}, {'ticker': 'POCHITA_USDT', 'price': '0.00377'}, {'ticker': 'MORTI_USDT', 'price': '0.000091'}, {'ticker': 'RDOG_USDT', 'price': '0.000099'}, {'ticker': 'TWX_USDT', 'price': '0.001001'}, {'ticker': 'HANA_USDT', 'price': '0.000682'}, {'ticker': 'INCEPT_USDT', 'price': '60.84'}, {'ticker': 'THREEAC_USDT', 'price': '0.00133'}, {'ticker': 'DOE_USDT', 'price': '0.0009'}, {'ticker': 'KOIN_USDT', 'price': '0.0000001272'}, {'ticker': 'OMOCHI_USDT', 'price': '0.001819'}, {'ticker': 'PUSS_USDT', 'price': '0.007196'}, {'ticker': 'SDOGE_USDT', 'price': '0.000065'}, {'ticker': 'SUNJOKER_USDT', 'price': '0.000039'}, {'ticker': 'MARS_USDT', 'price': '0.000015'}, {'ticker': 'NEIROSOL_USDT', 'price': '0.00217'}, {'ticker': 'FOREST_USDT', 'price': '0.01714'}, {'ticker': 'KLAUS_USDT', 'price': '0.01091'}, {'ticker': 'MEDUSA_USDT', 'price': '0.00044'}, {'ticker': 'PUFFER_USDT', 'price': '0.708'}, {'ticker': 'SPX_USDT', 'price': '0.6601'}, {'ticker': 'GOAT_USDT', 'price': '0.8882'}, {'ticker': 'MIHARU_USDT', 'price': '0.00169'}, {'ticker': 'SIGMA_USDT', 'price': '0.05512'}, {'ticker': 'MINI_USDT', 'price': '0.02517'}, {'ticker': 'CB_USDT', 'price': '0.00115'}, {'ticker': 'CARV_USDT', 'price': '0.9167'}, {'ticker': 'DXY_USDT', 'price': '0.000441'}, {'ticker': 'MOODENGETH_USDT', 'price': '0.0001003'}, {'ticker': 'FIONA_USDT', 'price': '0.000000008'}, {'ticker': 'WAP_USDT', 'price': '0.00014'}, {'ticker': 'SASHA_USDT', 'price': '0.000150921'}, {'ticker': 'SHOGGOTH_USDT', 'price': '0.02905'}, {'ticker': 'EIGEN_USDT', 'price': '4.591'}, {'ticker': 'ACT_USDT', 'price': '0.5299'}, {'ticker': 'SLOP_USDT', 'price': '0.00267'}, {'ticker': 'FARTCOIN_USDT', 'price': '0.95'}, {'ticker': 'GNON_USDT', 'price': '0.01111'}, {'ticker': 'JANET_USDT', 'price': '0.000251'}, {'ticker': 'GIGASOL_USDT', 'price': '0.05017'}, {'ticker': 'AFRO_USDT', 'price': '0.004134'}, {'ticker': 'BABYCATE_USDT', 'price': '0.000000431'}, {'ticker': 'DARAM_USDT', 'price': '0.0000305'}, {'ticker': 'SYDNEY_USDT', 'price': '0.000464'}, {'ticker': 'KABOSUETH_USDT', 'price': '0.00000109'}, {'ticker': 'ZAPO_USDT', 'price': '0.001699'}, {'ticker': 'BABYNEIRO_USDT', 'price': '0.000000000024467'}, {'ticker': 'SHRUB_USDT', 'price': '0.000782'}, {'ticker': 'BORK_USDT', 'price': '0.00729'}, {'ticker': 'BUIO_USDT', 'price': '0.0000357'}, {'ticker': 'DJTETH_USDT', 'price': '0.000000088'}, {'ticker': 'TEE_USDT', 'price': '0.008975'}, {'ticker': 'FRIDGE_USDT', 'price': '0.000956'}, {'ticker': 'LUCE_USDT', 'price': '0.21813'}, {'ticker': 'KIRA_USDT', 'price': '0.003505'}, {'ticker': 'WORM_USDT', 'price': '0.01903'}, {'ticker': 'EYE_USDT', 'price': '0.00078'}, {'ticker': 'MEMESAI_USDT', 'price': '0.037'}, {'ticker': 'GRASS_USDT', 'price': '2.67'}, {'ticker': 'GOLDENCAT_USDT', 'price': '0.00000146'}, {'ticker': 'BAN_USDT', 'price': '0.08483'}, {'ticker': 'HIPPO_USDT', 'price': '0.01183'}, {'ticker': 'FLAVIA_USDT', 'price': '0.00068'}, {'ticker': 'ZEREBRO_USDT', 'price': '0.3507229'}, {'ticker': 'CENTS_USDT', 'price': '0.01962'}, {'ticker': 'PIPPIN_USDT', 'price': '0.02429'}, {'ticker': 'BANANASOL_USDT', 'price': '0.00297'}, {'ticker': 'JORGIE_USDT', 'price': '0.00083'}, {'ticker': 'MISTSOL_USDT', 'price': '0.00218'}, {'ticker': 'UNISUI_USDT', 'price': '0.02033'}, {'ticker': 'TOGA_USDT', 'price': '0.00031'}, {'ticker': 'HAPPYSOL_USDT', 'price': '0.008811'}, {'ticker': 'FZC_USDT', 'price': '0.000898'}, {'ticker': 'SHEGEN_USDT', 'price': '0.00856'}, {'ticker': 'JARVIS_USDT', 'price': '0.000343'}, {'ticker': 'TOAD_USDT', 'price': '0.000000008'}, {'ticker': 'PATRIOT_USDT', 'price': '0.0019098'}, {'ticker': 'PEANUT_USDT', 'price': '0.000001584'}, {'ticker': 'PNUTSOL_USDT', 'price': '0.88048'}, {'ticker': 'SUGAR_USDT', 'price': '0.00406'}, {'ticker': 'KACY_USDT', 'price': '0.0012'}, {'ticker': 'CHEEMS_USDT', 'price': '0.000000765'}, {'ticker': 'ANON_USDT', 'price': '0.02491'}, {'ticker': 'CHILLGUY_USDT', 'price': '0.3934'}, {'ticker': 'UROSOL_USDT', 'price': '0.04325'}, {'ticker': 'ELIZA_USDT', 'price': '0.01135'}, {'ticker': 'AVASOL_USDT', 'price': '0.025'}, {'ticker': 'VVAIFU_USDT', 'price': '0.0449'}, {'ticker': 'DUCKY_USDT', 'price': '0.00000998'}, {'ticker': 'RIFSOL_USDT', 'price': '0.0575'}, {'ticker': 'BERT_USDT', 'price': '0.06777'}, {'ticker': 'LESTER_USDT', 'price': '0.02098'}, {'ticker': 'SHRUBETH_USDT', 'price': '0.0501'}, {'ticker': 'OBOT_USDT', 'price': '0.07069'}, {'ticker': 'OPUS_USDT', 'price': '0.026'}, {'ticker': 'ALCH_USDT', 'price': '0.09251'}, {'ticker': 'LOFI_USDT', 'price': '0.17553'}, {'ticker': 'EVAN_USDT', 'price': '0.0582'}, {'ticker': 'UBC_USDT', 'price': '0.012'}, {'ticker': 'AVB_USDT', 'price': '0.01515'}, {'ticker': 'CLANKER_USDT', 'price': '49.17'}, {'ticker': 'DADDYCHILL_USDT', 'price': '0.00099'}, {'ticker': 'WHY_USDT', 'price': '0.0000001504'}, {'ticker': 'KOMA_USDT', 'price': '0.12284'}, {'ticker': 'ZRC_USDT', 'price': '0.0604'}, {'ticker': 'FATHA_USDT', 'price': '0.00565'}, {'ticker': 'FLOWER_USDT', 'price': '0.00219'}, {'ticker': 'MUSTARD_USDT', 'price': '0.00108'}, {'ticker': 'APEPE_USDT', 'price': '0.00000498'}, {'ticker': 'OPAIUM_USDT', 'price': '0.01609'}, {'ticker': 'SIMMI_USDT', 'price': '0.0002842'}, {'ticker': 'CULTETH_USDT', 'price': '0.006642'}, {'ticker': 'JAIL_USDT', 'price': '0.02336'}, {'ticker': 'PURPE_USDT', 'price': '0.00018371'}, {'ticker': 'M3M3_USDT', 'price': '0.1099'}, {'ticker': 'AIXBT_USDT', 'price': '0.263'}, {'ticker': 'VOID_USDT', 'price': '0.00221'}, {'ticker': 'MAXSOL_USDT', 'price': '0.022865'}, {'ticker': 'TETSUO_USDT', 'price': '0.01624'}, {'ticker': 'SITCOM_USDT', 'price': '0.00058'}, {'ticker': 'PORT_USDT', 'price': '0.00013'}, {'ticker': 'HAT_USDT', 'price': '0.05409'}, {'ticker': 'BIAOSOL_USDT', 'price': '0.02854'}, {'ticker': 'BULLY_USDT', 'price': '0.0747'}]\n"
     ]
    }
   ],
   "source": [
    "print(prices_list)"
   ]
  },
  {
   "cell_type": "code",
   "execution_count": 6,
   "metadata": {},
   "outputs": [
    {
     "name": "stdout",
     "output_type": "stream",
     "text": [
      "{'time': 1734195853421, 'scale': '0.000001', 'asks': ['0.000459', '2.71', '0.00046', '3.44', '0.000461', '0.27', '0.000479', '2.46', '0.00048', '26.85', '0.000489', '3.38', '0.000502', '0.50', '0.000527', '0.50', '0.000567', '0.04', '0.000568', '13.64', '0.000575', '0.04', '0.000577', '0.08', '0.000583', '0.09', '0.000584', '1.61', '0.000594', '0.02', '0.0006', '0.04', '0.000602', '0.04', '0.000606', '2.94', '0.000618', '4.8', '0.000619', '0.5'], 'bids': ['0.000452', '0.03', '0.000445', '0.45', '0.000444', '0.05', '0.000442', '2.48', '0.000437', '0.04', '0.000435', '7.07', '0.000434', '0.5', '0.00043', '3.03', '0.000414', '1.25', '0.000413', '0.55', '0.000411', '0.04', '0.00041', '1.2', '0.000374', '0.13', '0.000363', '0.04', '0.000354', '0.3', '0.000352', '0.04', '0.000341', '0.04', '0.000331', '0.04', '0.000321', '0.04', '0.00032', '0.06'], 'ts': 1734195853925}\n"
     ]
    }
   ],
   "source": [
    "# Poloniex Orderbook\n",
    "ticker = \"DASH_BTC\"\n",
    "limit = 20\n",
    "ob = requests.get(f\"https://api.poloniex.com/markets/{ticker}/orderBook?limit={limit}\")\n",
    "ob_json = []\n",
    "if ob.status_code == 200:\n",
    "  ob_json = json.loads(ob.text)\n",
    "print(ob_json)"
   ]
  },
  {
   "cell_type": "code",
   "execution_count": 7,
   "metadata": {},
   "outputs": [
    {
     "name": "stdout",
     "output_type": "stream",
     "text": [
      "[['0.000459', '2.71'], ['0.00046', '3.44'], ['0.000461', '0.27'], ['0.000479', '2.46'], ['0.00048', '26.85'], ['0.000489', '3.38'], ['0.000502', '0.50'], ['0.000527', '0.50'], ['0.000567', '0.04'], ['0.000568', '13.64'], ['0.000575', '0.04'], ['0.000577', '0.08'], ['0.000583', '0.09'], ['0.000584', '1.61'], ['0.000594', '0.02'], ['0.0006', '0.04'], ['0.000602', '0.04'], ['0.000606', '2.94'], ['0.000618', '4.8'], ['0.000619', '0.5']]\n",
      "[['0.000452', '0.03'], ['0.000445', '0.45'], ['0.000444', '0.05'], ['0.000442', '2.48'], ['0.000437', '0.04'], ['0.000435', '7.07'], ['0.000434', '0.5'], ['0.00043', '3.03'], ['0.000414', '1.25'], ['0.000413', '0.55'], ['0.000411', '0.04'], ['0.00041', '1.2'], ['0.000374', '0.13'], ['0.000363', '0.04'], ['0.000354', '0.3'], ['0.000352', '0.04'], ['0.000341', '0.04'], ['0.000331', '0.04'], ['0.000321', '0.04'], ['0.00032', '0.06']]\n"
     ]
    }
   ],
   "source": [
    "# Structure our orderbook\n",
    "asks = []\n",
    "bids = []\n",
    "for i in range(0, len(ob_json[\"asks\"]), 2):\n",
    "    ask_price = ob_json[\"asks\"][i]\n",
    "    ask_quantity = ob_json[\"asks\"][i + 1]\n",
    "    asks.append([ask_price, ask_quantity])\n",
    "for i in range(0, len(ob_json[\"bids\"]), 2):\n",
    "    bid_price = ob_json[\"bids\"][i]\n",
    "    bid_quantity = ob_json[\"bids\"][i + 1]\n",
    "    bids.append([bid_price, bid_quantity])\n",
    "print(asks)\n",
    "print(bids)"
   ]
  },
  {
   "cell_type": "markdown",
   "metadata": {},
   "source": [
    "## Binance"
   ]
  },
  {
   "cell_type": "code",
   "execution_count": 8,
   "metadata": {},
   "outputs": [
    {
     "name": "stdout",
     "output_type": "stream",
     "text": [
      "[[1732492800000, '97900.05000000', '98871.80000000', '92600.19000000', '93010.01000000', '50847.45096000', 1732579199999, '4883444806.32219350', 8289691, '23486.92705000', '2255516841.61021860', '0'], [1732579200000, '93010.01000000', '94973.37000000', '90791.10000000', '91965.16000000', '57858.73138000', 1732665599999, '5370918648.81816690', 10225809, '29120.26765000', '2702543576.08910800', '0'], [1732665600000, '91965.16000000', '97208.21000000', '91792.14000000', '95863.11000000', '41153.42734000', 1732751999999, '3894358511.61756510', 6648690, '20316.58245000', '1922620637.30761870', '0'], [1732752000000, '95863.11000000', '96564.00000000', '94640.00000000', '95643.98000000', '28814.54357000', 1732838399999, '2749861591.25960980', 4988161, '14805.69321000', '1412851841.07519470', '0'], [1732838400000, '95643.99000000', '98619.99000000', '95364.99000000', '97460.00000000', '27701.78231000', 1732924799999, '2690451030.63428740', 5094070, '13840.21172000', '1344148785.26364260', '0'], [1732924800000, '97460.00000000', '97463.95000000', '96092.01000000', '96407.99000000', '14503.83306000', 1733011199999, '1402672950.69982080', 3354759, '7075.91503000', '684284805.02344440', '0'], [1733011200000, '96407.99000000', '97836.00000000', '95693.88000000', '97185.18000000', '16938.60452000', 1733097599999, '1641327626.60622060', 3342200, '8114.89569000', '786489040.19363780', '0'], [1733097600000, '97185.17000000', '98130.00000000', '94395.00000000', '95840.62000000', '37958.66981000', 1733183999999, '3646639621.73758780', 7560103, '18821.93327000', '1808458555.89058410', '0'], [1733184000000, '95840.61000000', '96305.52000000', '93578.17000000', '95849.69000000', '35827.32283000', 1733270399999, '3413995542.01865610', 5361712, '17339.11167000', '1652090703.17559560', '0'], [1733270400000, '95849.69000000', '99000.00000000', '94587.83000000', '98587.32000000', '43850.53728000', 1733356799999, '4241994533.78610610', 6648724, '22033.60112000', '2132655972.04500000', '0'], [1733356800000, '98587.32000000', '104088.00000000', '90500.00000000', '96945.63000000', '109921.72966200', 1733443199999, '11048002942.14993118', 12012364, '56235.07835600', '5657171374.76345580', '0'], [1733443200000, '96945.63000000', '101898.99000000', '95981.72000000', '99740.84000000', '45049.53310000', 1733529599999, '4456641685.36444370', 6919102, '21999.62416000', '2175645718.55336060', '0'], [1733529600000, '99740.84000000', '100439.18000000', '98844.00000000', '99831.99000000', '14931.94590000', 1733615999999, '1487953846.83854580', 2634566, '6776.55000000', '675350661.29733480', '0'], [1733616000000, '99831.99000000', '101351.00000000', '98657.70000000', '101109.59000000', '14612.99688000', 1733702399999, '1459576946.40215100', 2994709, '7152.80173000', '714745738.91883560', '0'], [1733702400000, '101109.60000000', '101215.93000000', '94150.05000000', '97276.47000000', '53949.11595000', 1733788799999, '5283626995.70564880', 8445872, '25472.08477000', '2495722030.53709450', '0'], [1733788800000, '97276.48000000', '98270.00000000', '94256.54000000', '96593.00000000', '51708.68933000', 1733875199999, '4988660195.09242860', 11556189, '24523.09586000', '2367164879.17077290', '0'], [1733875200000, '96593.00000000', '101888.00000000', '95658.24000000', '101125.00000000', '37753.78291000', 1733961599999, '3745703763.01844990', 8250511, '19112.84559000', '1897146318.21117040', '0'], [1733961600000, '101125.00000000', '102540.00000000', '99311.64000000', '100004.29000000', '29232.08745000', 1734047999999, '2949462583.86617050', 8066322, '14175.88661000', '1430984456.67036050', '0'], [1734048000000, '100004.29000000', '101895.26000000', '99205.00000000', '101424.25000000', '21904.03923000', 1734134399999, '2203903393.07410050', 5481660, '10669.09365000', '1073720887.63545590', '0'], [1734134400000, '101424.24000000', '102650.00000000', '100826.38000000', '101615.76000000', '10873.91410000', 1734220799999, '1106157746.24604490', 2463355, '5404.04989000', '549809215.91553100', '0']]\n"
     ]
    }
   ],
   "source": [
    "symbol = \"BTCUSDT\"\n",
    "interval = \"1d\"\n",
    "candles = requests.get(f\"https://api.binance.com/api/v3/klines?symbol={symbol}&interval={interval}&limit={limit}\")\n",
    "candles_json = []\n",
    "if candles.status_code == 200:\n",
    "  candles_json = json.loads(candles.text)\n",
    "  print(candles_json)"
   ]
  },
  {
   "cell_type": "code",
   "execution_count": 9,
   "metadata": {},
   "outputs": [
    {
     "name": "stdout",
     "output_type": "stream",
     "text": [
      "['93010.01000000', '91965.16000000', '95863.11000000', '95643.98000000', '97460.00000000', '96407.99000000', '97185.18000000', '95840.62000000', '95849.69000000', '98587.32000000', '96945.63000000', '99740.84000000', '99831.99000000', '101109.59000000', '97276.47000000', '96593.00000000', '101125.00000000', '100004.29000000', '101424.25000000', '101615.76000000']\n",
      "20\n"
     ]
    }
   ],
   "source": [
    "# Structure close prices\n",
    "my_candles = []\n",
    "for c in candles_json:\n",
    "  my_candles.append(c[4])\n",
    "print(my_candles)\n",
    "print(len(my_candles))"
   ]
  },
  {
   "cell_type": "code",
   "execution_count": null,
   "metadata": {},
   "outputs": [],
   "source": []
  }
 ],
 "metadata": {
  "kernelspec": {
   "display_name": "MLTrading",
   "language": "python",
   "name": "python3"
  },
  "language_info": {
   "codemirror_mode": {
    "name": "ipython",
    "version": 3
   },
   "file_extension": ".py",
   "mimetype": "text/x-python",
   "name": "python",
   "nbconvert_exporter": "python",
   "pygments_lexer": "ipython3",
   "version": "3.9.6"
  }
 },
 "nbformat": 4,
 "nbformat_minor": 2
}
