{
 "cells": [
  {
   "cell_type": "markdown",
   "id": "ecc77eb2",
   "metadata": {},
   "source": [
    "### Imports"
   ]
  },
  {
   "cell_type": "code",
   "execution_count": 1,
   "id": "0110bcc8",
   "metadata": {},
   "outputs": [
    {
     "name": "stderr",
     "output_type": "stream",
     "text": [
      "/Users/anoguera/anaconda3/envs/MLTrading/lib/python3.9/site-packages/yfinance/base.py:48: FutureWarning: The default dtype for empty Series will be 'object' instead of 'float64' in a future version. Specify a dtype explicitly to silence this warning.\n",
      "  _empty_series = pd.Series()\n"
     ]
    }
   ],
   "source": [
    "import pandas as pd\n",
    "import numpy as np\n",
    "from numpy import cumsum, log, polyfit, sqrt, std, subtract\n",
    "import sklearn.mixture as mix\n",
    "import yfinance as yf\n",
    "import matplotlib.pyplot as plt\n",
    "\n",
    "# Efficiency Testing Libraries\n",
    "from statsmodels.tsa.stattools import bds\n",
    "from statsmodels.sandbox.stats.runs import runstest_1samp\n",
    "from statsmodels.tsa.stattools import adfuller\n",
    "import scipy.stats as sps"
   ]
  },
  {
   "cell_type": "markdown",
   "id": "f060f645",
   "metadata": {},
   "source": [
    "### Data Extraction"
   ]
  },
  {
   "cell_type": "code",
   "execution_count": 6,
   "id": "00861d85",
   "metadata": {},
   "outputs": [
    {
     "name": "stderr",
     "output_type": "stream",
     "text": [
      "[*********************100%%**********************]  1 of 1 completed\n"
     ]
    },
    {
     "data": {
      "text/html": [
       "<div>\n",
       "<style scoped>\n",
       "    .dataframe tbody tr th:only-of-type {\n",
       "        vertical-align: middle;\n",
       "    }\n",
       "\n",
       "    .dataframe tbody tr th {\n",
       "        vertical-align: top;\n",
       "    }\n",
       "\n",
       "    .dataframe thead th {\n",
       "        text-align: right;\n",
       "    }\n",
       "</style>\n",
       "<table border=\"1\" class=\"dataframe\">\n",
       "  <thead>\n",
       "    <tr style=\"text-align: right;\">\n",
       "      <th></th>\n",
       "      <th>Open</th>\n",
       "      <th>High</th>\n",
       "      <th>Low</th>\n",
       "      <th>Close</th>\n",
       "      <th>Adj Close</th>\n",
       "      <th>Volume</th>\n",
       "      <th>Returns</th>\n",
       "    </tr>\n",
       "    <tr>\n",
       "      <th>Date</th>\n",
       "      <th></th>\n",
       "      <th></th>\n",
       "      <th></th>\n",
       "      <th></th>\n",
       "      <th></th>\n",
       "      <th></th>\n",
       "      <th></th>\n",
       "    </tr>\n",
       "  </thead>\n",
       "  <tbody>\n",
       "    <tr>\n",
       "      <th>2020-01-02</th>\n",
       "      <td>323.540009</td>\n",
       "      <td>324.890015</td>\n",
       "      <td>322.529999</td>\n",
       "      <td>324.869995</td>\n",
       "      <td>302.208618</td>\n",
       "      <td>59151200</td>\n",
       "      <td>0.009352</td>\n",
       "    </tr>\n",
       "    <tr>\n",
       "      <th>2020-01-03</th>\n",
       "      <td>321.160004</td>\n",
       "      <td>323.640015</td>\n",
       "      <td>321.100006</td>\n",
       "      <td>322.410004</td>\n",
       "      <td>299.920227</td>\n",
       "      <td>77709700</td>\n",
       "      <td>-0.007572</td>\n",
       "    </tr>\n",
       "    <tr>\n",
       "      <th>2020-01-06</th>\n",
       "      <td>320.489990</td>\n",
       "      <td>323.730011</td>\n",
       "      <td>320.359985</td>\n",
       "      <td>323.640015</td>\n",
       "      <td>301.064423</td>\n",
       "      <td>55653900</td>\n",
       "      <td>0.003815</td>\n",
       "    </tr>\n",
       "  </tbody>\n",
       "</table>\n",
       "</div>"
      ],
      "text/plain": [
       "                  Open        High         Low       Close   Adj Close  \\\n",
       "Date                                                                     \n",
       "2020-01-02  323.540009  324.890015  322.529999  324.869995  302.208618   \n",
       "2020-01-03  321.160004  323.640015  321.100006  322.410004  299.920227   \n",
       "2020-01-06  320.489990  323.730011  320.359985  323.640015  301.064423   \n",
       "\n",
       "              Volume   Returns  \n",
       "Date                            \n",
       "2020-01-02  59151200  0.009352  \n",
       "2020-01-03  77709700 -0.007572  \n",
       "2020-01-06  55653900  0.003815  "
      ]
     },
     "execution_count": 6,
     "metadata": {},
     "output_type": "execute_result"
    }
   ],
   "source": [
    "# Data Extraction\n",
    "start_date = \"2019-12-31\"\n",
    "end_date = \"2024-12-31\"\n",
    "symbol = \"SPY\"\n",
    "df = yf.download(symbol, start=start_date, end=end_date)\n",
    "df[\"Returns\"] = df[\"Close\"] / df[\"Close\"].shift(1) - 1\n",
    "df.dropna(inplace=True)\n",
    "df.head(3)"
   ]
  },
  {
   "cell_type": "code",
   "execution_count": 7,
   "id": "2d129007",
   "metadata": {},
   "outputs": [],
   "source": [
    "# Returns extraction\n",
    "returns = df[\"Returns\"].values.astype(float)"
   ]
  },
  {
   "cell_type": "markdown",
   "id": "286fc3e6",
   "metadata": {},
   "source": [
    "### Runs Test"
   ]
  },
  {
   "cell_type": "markdown",
   "id": "7ef83799",
   "metadata": {},
   "source": [
    "Base standard test for randomness based on linearity"
   ]
  },
  {
   "cell_type": "code",
   "execution_count": 8,
   "id": "34881200",
   "metadata": {},
   "outputs": [],
   "source": [
    "# Convert Returns into binary outcomes\n",
    "returns_binary = [ 1 if x >= 0 else 0 for x in returns]"
   ]
  },
  {
   "cell_type": "code",
   "execution_count": 9,
   "id": "377ed416",
   "metadata": {},
   "outputs": [
    {
     "name": "stdout",
     "output_type": "stream",
     "text": [
      "Z-Statistic: 2.248\n",
      "P-Value: 0.025\n",
      "Reject Null: True\n",
      "Observable Runs Exceeds Excpected Runs by: 2.248 Standard Deviations\n",
      "Not Random\n"
     ]
    }
   ],
   "source": [
    "(z_stat, p_value) = runstest_1samp(returns_binary[:10], correction=False)\n",
    "z_stat = round(z_stat, 3)\n",
    "p_value = round(p_value, 3)\n",
    "is_reject_runs = True if p_value < 0.05 else False\n",
    "print(f\"Z-Statistic: {z_stat}\")\n",
    "print(f\"P-Value: {p_value}\")\n",
    "print(f\"Reject Null: {is_reject_runs}\")\n",
    "print(f\"Observable Runs Exceeds Excpected Runs by: {z_stat} Standard Deviations\")\n",
    "print(\"Not Random\") if is_reject_runs else print(\"Random\")"
   ]
  },
  {
   "cell_type": "markdown",
   "id": "0a84e097",
   "metadata": {},
   "source": [
    "### BDS Test"
   ]
  },
  {
   "cell_type": "markdown",
   "id": "44d016c6",
   "metadata": {},
   "source": [
    "Testing for chaos and nonlinearity. Considered as your last line of defence as takes into account non-linear dependancies after running other efficiency tests."
   ]
  },
  {
   "cell_type": "code",
   "execution_count": 10,
   "id": "fdaccb67",
   "metadata": {},
   "outputs": [
    {
     "name": "stdout",
     "output_type": "stream",
     "text": [
      "BDS Test Statistic:  0.792\n",
      "BDS P-Value:  0.428\n",
      "Random\n"
     ]
    }
   ],
   "source": [
    "bds_test = bds(returns[-500:], distance=2)\n",
    "bds_stat = float(bds_test[0])\n",
    "pvalue = float(bds_test[1])\n",
    "print(\"BDS Test Statistic: \", round(bds_stat, 3))\n",
    "print(\"BDS P-Value: \", round(pvalue, 3))\n",
    "print(\"Not Random\") if pvalue < 0.05 else print(\"Random\")"
   ]
  },
  {
   "cell_type": "markdown",
   "id": "0d7dfaca",
   "metadata": {},
   "source": [
    "### Hurst Exponent"
   ]
  },
  {
   "cell_type": "markdown",
   "id": "5593b9ea",
   "metadata": {},
   "source": [
    "\"Whether a market tends to trend, mean revert, or is just random is valuable information for a trader. While the Hurst exponent isn't an entry signal in and of itself, it can serve as a filter on top of a system. Given that market regimes can shift over time to favor one approach or the other, overlaying your model with a Hurst filter could help prevent your algorithm from buying a breakout in a mean reverting market or shorting ahead of a pullback when the market is moving to new highs.\" - *Find Your Best Market to Trade With the Hurst Exponent (referenced below)*\n",
    "\n",
    "If Hurst = 0.5, then the market is random.\n",
    "\n",
    "If Hurst > 0.5, then there is evidence of a trending market.\n",
    "\n",
    "If Hurst < 0.5, then there is evidence of a mean reverting market."
   ]
  },
  {
   "cell_type": "code",
   "execution_count": 15,
   "id": "52a60fc4",
   "metadata": {},
   "outputs": [],
   "source": [
    "def hurst(ts, min_lag=1, max_lag=100):\n",
    "    lags = range(min_lag, max_lag)\n",
    "    tau = [sqrt(std(subtract(ts[lag:], ts[:-lag]))) for lag in lags]\n",
    "    poly = polyfit(log(lags), log(tau), 1)\n",
    "\n",
    "    hurst_res = poly[0]*2.0\n",
    "\n",
    "    if hurst_res < 0.5:\n",
    "        print(hurst_res, 'Mean Reverting Market')\n",
    "    elif hurst_res > 0.5:\n",
    "        print(hurst_res, 'Trending Market')\n",
    "    else:\n",
    "        print(hurst_res, 'Random')\n",
    "    return poly[0]*2.0"
   ]
  },
  {
   "cell_type": "code",
   "execution_count": null,
   "id": "d8ad3dfa",
   "metadata": {},
   "outputs": [
    {
     "name": "stdout",
     "output_type": "stream",
     "text": [
      "0.41165673808093184 Mean Reverting Market\n"
     ]
    },
    {
     "data": {
      "text/plain": [
       "0.41165673808093184"
      ]
     },
     "execution_count": 16,
     "metadata": {},
     "output_type": "execute_result"
    }
   ],
   "source": [
    "prices = df[\"Close\"].values\n",
    "hurst_res = hurst(prices)"
   ]
  },
  {
   "cell_type": "markdown",
   "id": "348942b8",
   "metadata": {},
   "source": [
    "### AD Fuller Test for Stationarity"
   ]
  },
  {
   "cell_type": "code",
   "execution_count": 9,
   "id": "73bf2d87",
   "metadata": {},
   "outputs": [
    {
     "name": "stdout",
     "output_type": "stream",
     "text": [
      "6.251083465474839e-11 True\n",
      "If < 0.05 and True then we can reject the null hypothesis and conclude that the index is stationary\n"
     ]
    }
   ],
   "source": [
    "dftest = adfuller(returns)\n",
    "p_value = dftest[1]\n",
    "t_test = dftest[0] < dftest[4][\"1%\"]\n",
    "print(p_value, t_test)\n",
    "print(\"If < 0.05 and True then we can reject the null hypothesis and conclude that the index is stationary\")"
   ]
  },
  {
   "cell_type": "markdown",
   "id": "c54a40d3",
   "metadata": {},
   "source": [
    "### Resources and Useful References"
   ]
  },
  {
   "cell_type": "markdown",
   "id": "6a07acbd",
   "metadata": {},
   "source": [
    "NEDL YouTube Channel - Hurst Exponent: https://www.youtube.com/watch?v=l08LICz8Ink\n",
    "\n",
    "NEDL YouTube Channel - Dynamic Hurst Exponent: https://www.youtube.com/watch?v=v0sivj2wGcA\n",
    "\n",
    "Hurst Exponent Coding: https://raposa.trade/blog/find-your-best-market-to-trade-with-the-hurst-exponent/\n",
    "\n",
    "More Hurst Exponent Coding: https://www.quantstart.com/articles/Basics-of-Statistical-Mean-Reversion-Testing/"
   ]
  },
  {
   "cell_type": "code",
   "execution_count": null,
   "id": "52a89fc6",
   "metadata": {},
   "outputs": [],
   "source": []
  }
 ],
 "metadata": {
  "kernelspec": {
   "display_name": "MLTrading",
   "language": "python",
   "name": "python3"
  },
  "language_info": {
   "codemirror_mode": {
    "name": "ipython",
    "version": 3
   },
   "file_extension": ".py",
   "mimetype": "text/x-python",
   "name": "python",
   "nbconvert_exporter": "python",
   "pygments_lexer": "ipython3",
   "version": "3.9.6"
  }
 },
 "nbformat": 4,
 "nbformat_minor": 5
}
