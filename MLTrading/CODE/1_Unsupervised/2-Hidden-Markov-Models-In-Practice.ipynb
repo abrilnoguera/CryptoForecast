{
 "cells": [
  {
   "cell_type": "markdown",
   "id": "bf64a4aa",
   "metadata": {},
   "source": [
    "### Case Study"
   ]
  },
  {
   "cell_type": "markdown",
   "id": "fdad9608",
   "metadata": {},
   "source": [
    "Continuation on from the previous notebook, we are now going to take a very basic moving average cross-over strategy and see if we can improve upon the returns by selecting only favourable HMM states which are generated as out-of-sample data for maximum caution.\n",
    "\n",
    "We will also see how a quick backtest can be constructed and Equity curves along with Sharpe Ratios etc created."
   ]
  },
  {
   "cell_type": "markdown",
   "id": "e1abbf9e",
   "metadata": {},
   "source": [
    "### Imports"
   ]
  },
  {
   "cell_type": "code",
   "execution_count": 220,
   "id": "a4ff2ad2",
   "metadata": {},
   "outputs": [],
   "source": [
    "import pandas as pd\n",
    "import numpy as np\n",
    "\n",
    "from pyhhmm.gaussian import GaussianHMM\n",
    "import yfinance as yf\n",
    "\n",
    "import matplotlib.pyplot as plt"
   ]
  },
  {
   "cell_type": "markdown",
   "id": "b97c0207",
   "metadata": {},
   "source": [
    "### Structure Data"
   ]
  },
  {
   "cell_type": "code",
   "execution_count": null,
   "id": "eb544055",
   "metadata": {},
   "outputs": [
    {
     "name": "stderr",
     "output_type": "stream",
     "text": [
      "[*********************100%%**********************]  1 of 1 completed\n"
     ]
    }
   ],
   "source": [
    "# Data Extraction\n",
    "start_date = \"2017-01-1\"\n",
    "end_date = \"2024-12-31\"\n",
    "symbol = \"BTC-USD\"\n",
    "data = yf.download(symbol, start=start_date, end=end_date)\n",
    "data = data[[\"Open\", \"High\", \"Low\", \"Adj Close\"]]"
   ]
  },
  {
   "cell_type": "code",
   "execution_count": 222,
   "id": "dbe8e79d",
   "metadata": {},
   "outputs": [
    {
     "name": "stdout",
     "output_type": "stream",
     "text": [
      "Length:  2000\n"
     ]
    },
    {
     "data": {
      "text/html": [
       "<div>\n",
       "<style scoped>\n",
       "    .dataframe tbody tr th:only-of-type {\n",
       "        vertical-align: middle;\n",
       "    }\n",
       "\n",
       "    .dataframe tbody tr th {\n",
       "        vertical-align: top;\n",
       "    }\n",
       "\n",
       "    .dataframe thead th {\n",
       "        text-align: right;\n",
       "    }\n",
       "</style>\n",
       "<table border=\"1\" class=\"dataframe\">\n",
       "  <thead>\n",
       "    <tr style=\"text-align: right;\">\n",
       "      <th></th>\n",
       "      <th>Open</th>\n",
       "      <th>High</th>\n",
       "      <th>Low</th>\n",
       "      <th>Adj Close</th>\n",
       "      <th>Returns</th>\n",
       "      <th>Range</th>\n",
       "    </tr>\n",
       "    <tr>\n",
       "      <th>Date</th>\n",
       "      <th></th>\n",
       "      <th></th>\n",
       "      <th></th>\n",
       "      <th></th>\n",
       "      <th></th>\n",
       "      <th></th>\n",
       "    </tr>\n",
       "  </thead>\n",
       "  <tbody>\n",
       "    <tr>\n",
       "      <th>2017-01-04</th>\n",
       "      <td>225.619995</td>\n",
       "      <td>226.750000</td>\n",
       "      <td>225.610001</td>\n",
       "      <td>199.130508</td>\n",
       "      <td>0.005949</td>\n",
       "      <td>0.005053</td>\n",
       "    </tr>\n",
       "    <tr>\n",
       "      <th>2017-01-05</th>\n",
       "      <td>226.270004</td>\n",
       "      <td>226.580002</td>\n",
       "      <td>225.479996</td>\n",
       "      <td>198.972336</td>\n",
       "      <td>-0.000794</td>\n",
       "      <td>0.004879</td>\n",
       "    </tr>\n",
       "    <tr>\n",
       "      <th>2017-01-06</th>\n",
       "      <td>226.529999</td>\n",
       "      <td>227.750000</td>\n",
       "      <td>225.899994</td>\n",
       "      <td>199.684219</td>\n",
       "      <td>0.003578</td>\n",
       "      <td>0.008189</td>\n",
       "    </tr>\n",
       "    <tr>\n",
       "      <th>2017-01-09</th>\n",
       "      <td>226.910004</td>\n",
       "      <td>227.070007</td>\n",
       "      <td>226.419998</td>\n",
       "      <td>199.025101</td>\n",
       "      <td>-0.003301</td>\n",
       "      <td>0.002871</td>\n",
       "    </tr>\n",
       "    <tr>\n",
       "      <th>2017-01-10</th>\n",
       "      <td>226.479996</td>\n",
       "      <td>227.449997</td>\n",
       "      <td>226.009995</td>\n",
       "      <td>199.025101</td>\n",
       "      <td>0.000000</td>\n",
       "      <td>0.006371</td>\n",
       "    </tr>\n",
       "  </tbody>\n",
       "</table>\n",
       "</div>"
      ],
      "text/plain": [
       "                  Open        High         Low   Adj Close   Returns     Range\n",
       "Date                                                                          \n",
       "2017-01-04  225.619995  226.750000  225.610001  199.130508  0.005949  0.005053\n",
       "2017-01-05  226.270004  226.580002  225.479996  198.972336 -0.000794  0.004879\n",
       "2017-01-06  226.529999  227.750000  225.899994  199.684219  0.003578  0.008189\n",
       "2017-01-09  226.910004  227.070007  226.419998  199.025101 -0.003301  0.002871\n",
       "2017-01-10  226.479996  227.449997  226.009995  199.025101  0.000000  0.006371"
      ]
     },
     "execution_count": 222,
     "metadata": {},
     "output_type": "execute_result"
    }
   ],
   "source": [
    "# Add Returns and Range\n",
    "df = data.copy()\n",
    "df[\"Returns\"] = (df[\"Adj Close\"] / df[\"Adj Close\"].shift(1)) - 1\n",
    "df[\"Range\"] = (df[\"High\"] / df[\"Low\"]) - 1\n",
    "df.dropna(inplace=True)\n",
    "print(\"Length: \", len(df))\n",
    "df.head()"
   ]
  },
  {
   "cell_type": "code",
   "execution_count": 223,
   "id": "3a3f105f",
   "metadata": {},
   "outputs": [],
   "source": [
    "# Add Moving Average\n",
    "df[\"MA_12\"] = df[\"Adj Close\"].rolling(window=12).mean()\n",
    "df[\"MA_21\"] = df[\"Adj Close\"].rolling(window=21).mean()"
   ]
  },
  {
   "cell_type": "code",
   "execution_count": 224,
   "id": "f0482185",
   "metadata": {},
   "outputs": [
    {
     "name": "stdout",
     "output_type": "stream",
     "text": [
      "Train Length:  500\n",
      "Test Length:  1500\n",
      "X_train From:  2017-01-04 00:00:00\n",
      "X_train To:  2018-12-28 00:00:00\n",
      "X_test From:  2018-12-31 00:00:00\n",
      "X_test To:  2024-12-13 00:00:00\n"
     ]
    }
   ],
   "source": [
    "# Structure Data\n",
    "X_train = df[[\"Returns\", \"Range\"]].iloc[:500]\n",
    "X_test = df[[\"Returns\", \"Range\"]].iloc[500:]\n",
    "save_df = df.iloc[500:]\n",
    "\n",
    "print(\"Train Length: \", len(X_train))\n",
    "print(\"Test Length: \", len(X_test))\n",
    "print(\"X_train From: \", X_train.head(1).index.item())\n",
    "print(\"X_train To: \", X_train.tail(1).index.item())\n",
    "print(\"X_test From: \", X_test.head(1).index.item())\n",
    "print(\"X_test To: \", X_test.tail(1).index.item())"
   ]
  },
  {
   "cell_type": "markdown",
   "id": "e7d99158",
   "metadata": {},
   "source": [
    "### Train HMM"
   ]
  },
  {
   "cell_type": "code",
   "execution_count": 225,
   "id": "5289b9ae",
   "metadata": {},
   "outputs": [
    {
     "data": {
      "text/plain": [
       "array([0, 0, 0, 0, 0, 0, 0, 0, 0, 0], dtype=int32)"
      ]
     },
     "execution_count": 225,
     "metadata": {},
     "output_type": "execute_result"
    }
   ],
   "source": [
    "# Train HMM\n",
    "model = GaussianHMM(n_states=4, covariance_type='full', n_emissions=2)\n",
    "model.train([np.array(X_train.values)])\n",
    "model.predict([X_train.values])[0][:10]"
   ]
  },
  {
   "cell_type": "code",
   "execution_count": 226,
   "id": "23746516",
   "metadata": {},
   "outputs": [
    {
     "data": {
      "text/html": [
       "<div>\n",
       "<style scoped>\n",
       "    .dataframe tbody tr th:only-of-type {\n",
       "        vertical-align: middle;\n",
       "    }\n",
       "\n",
       "    .dataframe tbody tr th {\n",
       "        vertical-align: top;\n",
       "    }\n",
       "\n",
       "    .dataframe thead th {\n",
       "        text-align: right;\n",
       "    }\n",
       "</style>\n",
       "<table border=\"1\" class=\"dataframe\">\n",
       "  <thead>\n",
       "    <tr style=\"text-align: right;\">\n",
       "      <th></th>\n",
       "      <th>Open</th>\n",
       "      <th>Adj Close</th>\n",
       "      <th>Returns</th>\n",
       "      <th>Range</th>\n",
       "      <th>MA_12</th>\n",
       "      <th>MA_21</th>\n",
       "      <th>HMM</th>\n",
       "    </tr>\n",
       "    <tr>\n",
       "      <th>Date</th>\n",
       "      <th></th>\n",
       "      <th></th>\n",
       "      <th></th>\n",
       "      <th></th>\n",
       "      <th></th>\n",
       "      <th></th>\n",
       "      <th></th>\n",
       "    </tr>\n",
       "  </thead>\n",
       "  <tbody>\n",
       "    <tr>\n",
       "      <th>2018-12-31</th>\n",
       "      <td>249.559998</td>\n",
       "      <td>228.166260</td>\n",
       "      <td>0.008759</td>\n",
       "      <td>0.010991</td>\n",
       "      <td>227.688466</td>\n",
       "      <td>234.974480</td>\n",
       "      <td>0</td>\n",
       "    </tr>\n",
       "    <tr>\n",
       "      <th>2019-01-02</th>\n",
       "      <td>245.979996</td>\n",
       "      <td>228.403625</td>\n",
       "      <td>0.001040</td>\n",
       "      <td>0.021387</td>\n",
       "      <td>226.650035</td>\n",
       "      <td>234.008947</td>\n",
       "      <td>2</td>\n",
       "    </tr>\n",
       "    <tr>\n",
       "      <th>2019-01-03</th>\n",
       "      <td>248.229996</td>\n",
       "      <td>222.953293</td>\n",
       "      <td>-0.023863</td>\n",
       "      <td>0.020109</td>\n",
       "      <td>225.528028</td>\n",
       "      <td>232.711695</td>\n",
       "      <td>3</td>\n",
       "    </tr>\n",
       "    <tr>\n",
       "      <th>2019-01-04</th>\n",
       "      <td>247.589996</td>\n",
       "      <td>230.421295</td>\n",
       "      <td>0.033496</td>\n",
       "      <td>0.024032</td>\n",
       "      <td>225.414862</td>\n",
       "      <td>231.612297</td>\n",
       "      <td>1</td>\n",
       "    </tr>\n",
       "    <tr>\n",
       "      <th>2019-01-07</th>\n",
       "      <td>252.690002</td>\n",
       "      <td>232.238068</td>\n",
       "      <td>0.007885</td>\n",
       "      <td>0.016926</td>\n",
       "      <td>225.474277</td>\n",
       "      <td>230.990572</td>\n",
       "      <td>0</td>\n",
       "    </tr>\n",
       "  </tbody>\n",
       "</table>\n",
       "</div>"
      ],
      "text/plain": [
       "                  Open   Adj Close   Returns     Range       MA_12  \\\n",
       "Date                                                                 \n",
       "2018-12-31  249.559998  228.166260  0.008759  0.010991  227.688466   \n",
       "2019-01-02  245.979996  228.403625  0.001040  0.021387  226.650035   \n",
       "2019-01-03  248.229996  222.953293 -0.023863  0.020109  225.528028   \n",
       "2019-01-04  247.589996  230.421295  0.033496  0.024032  225.414862   \n",
       "2019-01-07  252.690002  232.238068  0.007885  0.016926  225.474277   \n",
       "\n",
       "                 MA_21  HMM  \n",
       "Date                         \n",
       "2018-12-31  234.974480    0  \n",
       "2019-01-02  234.008947    2  \n",
       "2019-01-03  232.711695    3  \n",
       "2019-01-04  231.612297    1  \n",
       "2019-01-07  230.990572    0  "
      ]
     },
     "execution_count": 226,
     "metadata": {},
     "output_type": "execute_result"
    }
   ],
   "source": [
    "# Make Prediction on Test Data\n",
    "df_main = save_df.copy()\n",
    "df_main.drop(columns=[\"High\", \"Low\"], inplace=True)\n",
    "\n",
    "hmm_results = model.predict([X_test.values])[0]\n",
    "df_main[\"HMM\"] = hmm_results\n",
    "df_main.head()"
   ]
  },
  {
   "cell_type": "markdown",
   "id": "d86676a1",
   "metadata": {},
   "source": [
    "### Run Backtest"
   ]
  },
  {
   "cell_type": "code",
   "execution_count": 227,
   "id": "9314180e",
   "metadata": {},
   "outputs": [],
   "source": [
    "# Add MA Signals\n",
    "df_main.loc[df_main[\"MA_12\"] > df_main[\"MA_21\"], \"MA_Signal\"] = 1\n",
    "df_main.loc[df_main[\"MA_12\"] <= df_main[\"MA_21\"], \"MA_Signal\"] = 0"
   ]
  },
  {
   "cell_type": "code",
   "execution_count": 228,
   "id": "b2099627",
   "metadata": {},
   "outputs": [],
   "source": [
    "# Add HMM Signals\n",
    "favourable_states = [0, 3] # States where you trade. (try each separetly and stay with the once that gives the best results)\n",
    "hmm_values = df_main[\"HMM\"].values\n",
    "hmm_values = [1 if x in favourable_states else 0 for x in hmm_values]\n",
    "df_main[\"HMM_Signal\"] = hmm_values"
   ]
  },
  {
   "cell_type": "code",
   "execution_count": 229,
   "id": "97bb42c7",
   "metadata": {},
   "outputs": [],
   "source": [
    "# Add Combined Signal\n",
    "df_main[\"Main_Signal\"] = 0\n",
    "df_main.loc[(df_main[\"MA_Signal\"] == 1) & (df_main[\"HMM_Signal\"] == 1), \"Main_Signal\"] = 1\n",
    "df_main[\"Main_Signal\"] = df_main[\"Main_Signal\"].shift(1)"
   ]
  },
  {
   "cell_type": "code",
   "execution_count": 230,
   "id": "418d4b5f",
   "metadata": {},
   "outputs": [],
   "source": [
    "# Benchmark Returns\n",
    "df_main[\"lrets_bench\"] = np.log(df_main[\"Adj Close\"] / df_main[\"Adj Close\"].shift(1))\n",
    "df_main[\"bench_prod\"] = df_main[\"lrets_bench\"].cumsum()\n",
    "df_main[\"bench_prod_exp\"] = np.exp(df_main[\"bench_prod\"]) - 1"
   ]
  },
  {
   "cell_type": "code",
   "execution_count": 231,
   "id": "1d94f2a3",
   "metadata": {},
   "outputs": [],
   "source": [
    "# Strategy Returns\n",
    "df_main[\"lrets_strat\"] = np.log(df_main[\"Open\"].shift(-1) / df_main[\"Open\"]) * df_main[\"Main_Signal\"]\n",
    "df_main[\"lrets_prod\"] = df_main[\"lrets_strat\"].cumsum()\n",
    "df_main[\"strat_prod_exp\"] = np.exp(df_main[\"lrets_prod\"]) - 1"
   ]
  },
  {
   "cell_type": "code",
   "execution_count": 232,
   "id": "da290628",
   "metadata": {},
   "outputs": [
    {
     "data": {
      "text/html": [
       "<div>\n",
       "<style scoped>\n",
       "    .dataframe tbody tr th:only-of-type {\n",
       "        vertical-align: middle;\n",
       "    }\n",
       "\n",
       "    .dataframe tbody tr th {\n",
       "        vertical-align: top;\n",
       "    }\n",
       "\n",
       "    .dataframe thead th {\n",
       "        text-align: right;\n",
       "    }\n",
       "</style>\n",
       "<table border=\"1\" class=\"dataframe\">\n",
       "  <thead>\n",
       "    <tr style=\"text-align: right;\">\n",
       "      <th></th>\n",
       "      <th>Open</th>\n",
       "      <th>Adj Close</th>\n",
       "      <th>Returns</th>\n",
       "      <th>Range</th>\n",
       "      <th>MA_12</th>\n",
       "      <th>MA_21</th>\n",
       "      <th>HMM</th>\n",
       "      <th>MA_Signal</th>\n",
       "      <th>HMM_Signal</th>\n",
       "      <th>Main_Signal</th>\n",
       "      <th>lrets_bench</th>\n",
       "      <th>bench_prod</th>\n",
       "      <th>bench_prod_exp</th>\n",
       "      <th>lrets_strat</th>\n",
       "      <th>lrets_prod</th>\n",
       "      <th>strat_prod_exp</th>\n",
       "    </tr>\n",
       "    <tr>\n",
       "      <th>Date</th>\n",
       "      <th></th>\n",
       "      <th></th>\n",
       "      <th></th>\n",
       "      <th></th>\n",
       "      <th></th>\n",
       "      <th></th>\n",
       "      <th></th>\n",
       "      <th></th>\n",
       "      <th></th>\n",
       "      <th></th>\n",
       "      <th></th>\n",
       "      <th></th>\n",
       "      <th></th>\n",
       "      <th></th>\n",
       "      <th></th>\n",
       "      <th></th>\n",
       "    </tr>\n",
       "  </thead>\n",
       "  <tbody>\n",
       "    <tr>\n",
       "      <th>2024-12-06</th>\n",
       "      <td>607.440002</td>\n",
       "      <td>607.809998</td>\n",
       "      <td>0.001896</td>\n",
       "      <td>0.003377</td>\n",
       "      <td>600.742498</td>\n",
       "      <td>597.767142</td>\n",
       "      <td>0</td>\n",
       "      <td>1.0</td>\n",
       "      <td>1</td>\n",
       "      <td>1.0</td>\n",
       "      <td>0.001894</td>\n",
       "      <td>0.979788</td>\n",
       "      <td>1.663891</td>\n",
       "      <td>0.000411</td>\n",
       "      <td>0.049177</td>\n",
       "      <td>0.050406</td>\n",
       "    </tr>\n",
       "    <tr>\n",
       "      <th>2024-12-09</th>\n",
       "      <td>607.690002</td>\n",
       "      <td>604.679993</td>\n",
       "      <td>-0.005150</td>\n",
       "      <td>0.006257</td>\n",
       "      <td>601.924164</td>\n",
       "      <td>598.199047</td>\n",
       "      <td>0</td>\n",
       "      <td>1.0</td>\n",
       "      <td>1</td>\n",
       "      <td>1.0</td>\n",
       "      <td>-0.005163</td>\n",
       "      <td>0.974625</td>\n",
       "      <td>1.650173</td>\n",
       "      <td>-0.003825</td>\n",
       "      <td>0.045352</td>\n",
       "      <td>0.046396</td>\n",
       "    </tr>\n",
       "    <tr>\n",
       "      <th>2024-12-10</th>\n",
       "      <td>605.369995</td>\n",
       "      <td>602.799988</td>\n",
       "      <td>-0.003109</td>\n",
       "      <td>0.006095</td>\n",
       "      <td>602.684998</td>\n",
       "      <td>598.418570</td>\n",
       "      <td>0</td>\n",
       "      <td>1.0</td>\n",
       "      <td>1</td>\n",
       "      <td>1.0</td>\n",
       "      <td>-0.003114</td>\n",
       "      <td>0.971511</td>\n",
       "      <td>1.641933</td>\n",
       "      <td>0.000677</td>\n",
       "      <td>0.046029</td>\n",
       "      <td>0.047104</td>\n",
       "    </tr>\n",
       "    <tr>\n",
       "      <th>2024-12-11</th>\n",
       "      <td>605.780029</td>\n",
       "      <td>607.460022</td>\n",
       "      <td>0.007731</td>\n",
       "      <td>0.004839</td>\n",
       "      <td>603.680832</td>\n",
       "      <td>598.832857</td>\n",
       "      <td>0</td>\n",
       "      <td>1.0</td>\n",
       "      <td>1</td>\n",
       "      <td>1.0</td>\n",
       "      <td>0.007701</td>\n",
       "      <td>0.979212</td>\n",
       "      <td>1.662357</td>\n",
       "      <td>0.001320</td>\n",
       "      <td>0.047348</td>\n",
       "      <td>0.048487</td>\n",
       "    </tr>\n",
       "    <tr>\n",
       "      <th>2024-12-12</th>\n",
       "      <td>606.580017</td>\n",
       "      <td>604.330017</td>\n",
       "      <td>-0.005153</td>\n",
       "      <td>0.004683</td>\n",
       "      <td>604.247498</td>\n",
       "      <td>599.186666</td>\n",
       "      <td>0</td>\n",
       "      <td>1.0</td>\n",
       "      <td>1</td>\n",
       "      <td>1.0</td>\n",
       "      <td>-0.005166</td>\n",
       "      <td>0.974046</td>\n",
       "      <td>1.648639</td>\n",
       "      <td>-0.000297</td>\n",
       "      <td>0.047052</td>\n",
       "      <td>0.048176</td>\n",
       "    </tr>\n",
       "  </tbody>\n",
       "</table>\n",
       "</div>"
      ],
      "text/plain": [
       "                  Open   Adj Close   Returns     Range       MA_12  \\\n",
       "Date                                                                 \n",
       "2024-12-06  607.440002  607.809998  0.001896  0.003377  600.742498   \n",
       "2024-12-09  607.690002  604.679993 -0.005150  0.006257  601.924164   \n",
       "2024-12-10  605.369995  602.799988 -0.003109  0.006095  602.684998   \n",
       "2024-12-11  605.780029  607.460022  0.007731  0.004839  603.680832   \n",
       "2024-12-12  606.580017  604.330017 -0.005153  0.004683  604.247498   \n",
       "\n",
       "                 MA_21  HMM  MA_Signal  HMM_Signal  Main_Signal  lrets_bench  \\\n",
       "Date                                                                           \n",
       "2024-12-06  597.767142    0        1.0           1          1.0     0.001894   \n",
       "2024-12-09  598.199047    0        1.0           1          1.0    -0.005163   \n",
       "2024-12-10  598.418570    0        1.0           1          1.0    -0.003114   \n",
       "2024-12-11  598.832857    0        1.0           1          1.0     0.007701   \n",
       "2024-12-12  599.186666    0        1.0           1          1.0    -0.005166   \n",
       "\n",
       "            bench_prod  bench_prod_exp  lrets_strat  lrets_prod  \\\n",
       "Date                                                              \n",
       "2024-12-06    0.979788        1.663891     0.000411    0.049177   \n",
       "2024-12-09    0.974625        1.650173    -0.003825    0.045352   \n",
       "2024-12-10    0.971511        1.641933     0.000677    0.046029   \n",
       "2024-12-11    0.979212        1.662357     0.001320    0.047348   \n",
       "2024-12-12    0.974046        1.648639    -0.000297    0.047052   \n",
       "\n",
       "            strat_prod_exp  \n",
       "Date                        \n",
       "2024-12-06        0.050406  \n",
       "2024-12-09        0.046396  \n",
       "2024-12-10        0.047104  \n",
       "2024-12-11        0.048487  \n",
       "2024-12-12        0.048176  "
      ]
     },
     "execution_count": 232,
     "metadata": {},
     "output_type": "execute_result"
    }
   ],
   "source": [
    "# Review Results Table\n",
    "df_main.dropna(inplace=True)\n",
    "df_main.tail()"
   ]
  },
  {
   "cell_type": "markdown",
   "id": "f2633ff5",
   "metadata": {},
   "source": [
    "### Calculate Metrics"
   ]
  },
  {
   "cell_type": "code",
   "execution_count": 233,
   "id": "18b5b297",
   "metadata": {},
   "outputs": [],
   "source": [
    "# Sharpe Ratio Function\n",
    "def sharpe_ratio(returns_series):\n",
    "    N = 255\n",
    "    NSQRT = np.sqrt(N)\n",
    "    rf = 0.01\n",
    "    mean = returns_series.mean() * N\n",
    "    sigma = returns_series.std() * NSQRT\n",
    "    sharpe_ratio = round((mean - rf) / sigma, 2)\n",
    "    return sharpe_ratio"
   ]
  },
  {
   "cell_type": "code",
   "execution_count": 234,
   "id": "f241e439",
   "metadata": {},
   "outputs": [],
   "source": [
    "# Metrics\n",
    "bench_rets = round(df_main[\"bench_prod_exp\"].values[-1] * 100, 1)\n",
    "strat_rets = round(df_main[\"strat_prod_exp\"].values[-1] * 100, 1)\n",
    "\n",
    "bench_sharpe = sharpe_ratio(df_main[\"lrets_bench\"].values)\n",
    "strat_sharpe = sharpe_ratio(df_main[\"lrets_strat\"].values)"
   ]
  },
  {
   "cell_type": "code",
   "execution_count": 235,
   "id": "271cc940",
   "metadata": {},
   "outputs": [
    {
     "name": "stdout",
     "output_type": "stream",
     "text": [
      "Returns Benchmark: 164.9%\n",
      "Returns Strategy: 4.8%\n",
      "---- ---- ---- ---- ---- ----\n",
      "Sharpe Benchmark: 0.78\n",
      "Sharpe Strategy: -0.02\n"
     ]
    }
   ],
   "source": [
    "# Print Metrics\n",
    "print(f\"Returns Benchmark: {bench_rets}%\")\n",
    "print(f\"Returns Strategy: {strat_rets}%\")\n",
    "print(\"---- ---- ---- ---- ---- ----\")\n",
    "print(f\"Sharpe Benchmark: {bench_sharpe}\")\n",
    "print(f\"Sharpe Strategy: {strat_sharpe}\")"
   ]
  },
  {
   "cell_type": "markdown",
   "id": "b494dc6a",
   "metadata": {},
   "source": [
    "### Plot Results"
   ]
  },
  {
   "cell_type": "code",
   "execution_count": 236,
   "id": "9c2c03e3",
   "metadata": {},
   "outputs": [
    {
     "data": {
      "image/png": "[encoded data removed]",
      "text/plain": [
       "<Figure size 1296x576 with 1 Axes>"
      ]
     },
     "metadata": {
      "needs_background": "light"
     },
     "output_type": "display_data"
    }
   ],
   "source": [
    "df_main.index = pd.to_datetime(df_main.index)\n",
    "\n",
    "# Plot Equity Curves\n",
    "fig, ax = plt.subplots(figsize=(18, 8))\n",
    "ax.plot(df_main.index, df_main[\"bench_prod_exp\"], label=\"Benchmark\")\n",
    "ax.plot(df_main.index, df_main[\"strat_prod_exp\"], label=\"Strategy\")\n",
    "ax.set_title(\"Equity Curves\")\n",
    "ax.set_xlabel(\"Fecha\")\n",
    "ax.set_ylabel(\"Returns\")\n",
    "ax.legend()\n",
    "plt.show()"
   ]
  },
  {
   "cell_type": "markdown",
   "id": "fcff1dc2",
   "metadata": {},
   "source": [
    "### Save Data"
   ]
  },
  {
   "cell_type": "code",
   "execution_count": 237,
   "id": "3f4c70ef",
   "metadata": {},
   "outputs": [],
   "source": [
    "# Save Data\n",
    "df_main.to_csv(f\"data/HMM-{symbol}.csv\")"
   ]
  },
  {
   "cell_type": "markdown",
   "id": "3a93ca0d",
   "metadata": {},
   "source": [
    "### Conclusion"
   ]
  },
  {
   "cell_type": "markdown",
   "id": "ddc70509",
   "metadata": {},
   "source": [
    "It is clear that the moving average cross-over strategy performs vastly better in both returns and Sharpe Ratio, when trading only in favourable hidden states determined by the Hidden Markov Model unsupervised learning method.\n",
    "\n",
    "CAUTION: Backtesting is fraught with areas of inconsitency. The price assumptions made in our strategy for backtesting are highly unlikely going to be like prices based on a real trading environment. \"Backtesting is not a research tool. Feature Importance is\". - Marcos Lopez De Prado (Author of Advances in Financial Machine Learning)."
   ]
  }
 ],
 "metadata": {
  "kernelspec": {
   "display_name": "MLTrading",
   "language": "python",
   "name": "python3"
  },
  "language_info": {
   "codemirror_mode": {
    "name": "ipython",
    "version": 3
   },
   "file_extension": ".py",
   "mimetype": "text/x-python",
   "name": "python",
   "nbconvert_exporter": "python",
   "pygments_lexer": "ipython3",
   "version": "3.9.6"
  }
 },
 "nbformat": 4,
 "nbformat_minor": 5
}
