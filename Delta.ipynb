{
 "cells": [
  {
   "cell_type": "markdown",
   "metadata": {},
   "source": [
    "## Crypto Delta\n",
    "Analyse Profit and Lost of Portfolio"
   ]
  },
  {
   "cell_type": "markdown",
   "metadata": {},
   "source": [
    "### Binance Library"
   ]
  },
  {
   "cell_type": "code",
   "execution_count": 1,
   "metadata": {},
   "outputs": [],
   "source": [
    "from calculation import profit_loss\n",
    "from chart import RealizedProfitLoss\n",
    "from binance.client import Client\n",
    "import pandas as pd"
   ]
  },
  {
   "cell_type": "code",
   "execution_count": 2,
   "metadata": {},
   "outputs": [],
   "source": [
    "from dotenv import load_dotenv\n",
    "import os\n",
    "\n",
    "# Cargar las variables del archivo .env\n",
    "load_dotenv()\n",
    "\n",
    "# Acceder a las variables\n",
    "api_key = os.getenv(\"API_KEY\")\n",
    "secret_key = os.getenv(\"SECRET_KEY\")"
   ]
  },
  {
   "cell_type": "code",
   "execution_count": 3,
   "metadata": {},
   "outputs": [],
   "source": [
    "client = Client(api_key, secret_key)"
   ]
  },
  {
   "cell_type": "code",
   "execution_count": 4,
   "metadata": {},
   "outputs": [
    {
     "name": "stdout",
     "output_type": "stream",
     "text": [
      "No trades found for BTCUSDT from 2024-01-01 till 2024-12-31\n",
      "Summary for BTCUSDT for period [2024-01-01 - 2024-12-31]:\n",
      "   Days: 344\n",
      "   Trades executed: 0\n",
      "   Total volume traded (USDT): 0.0\n",
      "   Average buy price: nan\n",
      "   Average sell price: nan\n",
      "\n",
      "Trading delta:\n",
      "   Delta BTC: 0\n",
      "   Delta USDT: 0\n",
      "\n",
      "Fees:\n",
      "   Fees BTC: -0.0\n",
      "   Fees USDT: -0.0\n",
      "   Fees BNB: 0.0\n",
      "\n",
      "Prices at the end of the period [2024-12-10 00:00]:\n",
      "   Price BTCUSDT: 97303.89\n",
      "   Price USDTUSDT: 1\n",
      "   Price BNBUSDT: 687.92\n",
      "\n",
      "Total profit:\n",
      "   Total profit (BTC): 0.0, , nan%\n",
      "   Total profit (USDT): 0.0\n"
     ]
    }
   ],
   "source": [
    "pnl = profit_loss(market='BTC-USDT', start_date = '2024-01-01', end_date='2024-12-31', client=client, showlog=True)"
   ]
  },
  {
   "cell_type": "code",
   "execution_count": 5,
   "metadata": {},
   "outputs": [
    {
     "name": "stdout",
     "output_type": "stream",
     "text": [
      "No trades found for ETHUSDT from 2024-01-01 till 2024-12-31\n",
      "Summary for ETHUSDT for period [2024-01-01 - 2024-12-31]:\n",
      "   Days: 344\n",
      "   Trades executed: 0\n",
      "   Total volume traded (USDT): 0.0\n",
      "   Average buy price: nan\n",
      "   Average sell price: nan\n",
      "\n",
      "Trading delta:\n",
      "   Delta ETH: 0\n",
      "   Delta USDT: 0\n",
      "\n",
      "Fees:\n",
      "   Fees ETH: -0.0\n",
      "   Fees USDT: -0.0\n",
      "   Fees BNB: 0.0\n",
      "\n",
      "Prices at the end of the period [2024-12-10 00:00]:\n",
      "   Price ETHUSDT: 3710.81\n",
      "   Price USDTUSDT: 1\n",
      "   Price BNBUSDT: 687.92\n",
      "\n",
      "Total profit:\n",
      "   Total profit (ETH): 0.0, , nan%\n",
      "   Total profit (USDT): 0.0\n"
     ]
    }
   ],
   "source": [
    "pnl = profit_loss(market='ETH-USDT', start_date = '2024-01-01', end_date='2024-12-31', client=client, showlog=True)"
   ]
  },
  {
   "cell_type": "code",
   "execution_count": 6,
   "metadata": {},
   "outputs": [
    {
     "data": {
      "text/html": [
       "\n",
       "        <iframe\n",
       "            width=\"100%\"\n",
       "            height=\"650\"\n",
       "            src=\"http://127.0.0.1:8050/\"\n",
       "            frameborder=\"0\"\n",
       "            allowfullscreen\n",
       "            \n",
       "        ></iframe>\n",
       "        "
      ],
      "text/plain": [
       "<IPython.lib.display.IFrame at 0x13a2c4dd0>"
      ]
     },
     "metadata": {},
     "output_type": "display_data"
    }
   ],
   "source": [
    "from datetime import datetime\n",
    "\n",
    "dates_df = pd.DataFrame(index=[datetime(2024,1,1), datetime(2024,12,31)])\n",
    "dates = dates_df.resample('d').first().index[::30]\n",
    "profilio = []\n",
    "for s in ['BTC-USDT', 'ETH-USDT']:        \n",
    "    for start_date, end_date in zip(dates[:], dates[1:]):        \n",
    "        pnl = profit_loss(market=s, start_date=start_date.strftime(\"%Y-%m-%d\"), end_date=end_date.strftime(\"%Y-%m-%d\"), client=client)\n",
    "        profilio.append({'date': end_date, 'symbol':s, 'pnl':pnl['total_profit(quote)']})    \n",
    "    \n",
    "profilio_df = pd.DataFrame(profilio)\n",
    "profilio_df = profilio_df.rename({'symbol':'stock_id'}, axis='columns')    \n",
    "RealizedProfitLoss(profilio_df).run_dash()"
   ]
  },
  {
   "cell_type": "code",
   "execution_count": null,
   "metadata": {},
   "outputs": [],
   "source": []
  }
 ],
 "metadata": {
  "colab": {
   "provenance": []
  },
  "kernelspec": {
   "display_name": "crypto",
   "language": "python",
   "name": "python3"
  },
  "language_info": {
   "codemirror_mode": {
    "name": "ipython",
    "version": 3
   },
   "file_extension": ".py",
   "mimetype": "text/x-python",
   "name": "python",
   "nbconvert_exporter": "python",
   "pygments_lexer": "ipython3",
   "version": "3.11.10"
  }
 },
 "nbformat": 4,
 "nbformat_minor": 0
}
